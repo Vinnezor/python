{
 "cells": [
  {
   "cell_type": "markdown",
   "id": "42289889-bd57-434e-9637-d3e354756316",
   "metadata": {
    "id": "42289889-bd57-434e-9637-d3e354756316"
   },
   "source": [
    "<center> <img src = https://raw.githubusercontent.com/AndreyRysistov/DatasetsForPandas/main/hh%20label.jpg alt=\"drawing\" style=\"width:400px;\">"
   ]
  },
  {
   "cell_type": "markdown",
   "id": "829cb75b-f14e-4ba8-9195-7ba929a7d656",
   "metadata": {
    "tags": [],
    "id": "829cb75b-f14e-4ba8-9195-7ba929a7d656"
   },
   "source": [
    "# <center> Проект: Анализ вакансий из HeadHunter\n",
    "   "
   ]
  },
  {
   "cell_type": "code",
   "id": "dccfde33-2452-43fb-a8a5-5c6ebc02a71d",
   "metadata": {
    "id": "dccfde33-2452-43fb-a8a5-5c6ebc02a71d",
    "ExecuteTime": {
     "end_time": "2024-08-04T17:12:49.742428Z",
     "start_time": "2024-08-04T17:12:49.735150Z"
    }
   },
   "source": [
    "import pandas as pd\n",
    "import psycopg2\n",
    "import requests \n",
    "from bs4 import BeautifulSoup \n",
    "# Для графиков\n",
    "import plotly.express as px\n",
    "\n",
    "# Данная библиотека импортируется ИСКЛЮЧИТЕЛЬНО для возможности отображения графиков через\n",
    "# https://nbviewer.org/ Jupyter Notebook. Для действий над данными, НЕ ИСПОЛЬЗУЕТСЯ!!!\n",
    "from plotly.offline import plot, iplot, init_notebook_mode\n",
    "init_notebook_mode(connected=True)\n",
    "import plotly.io as pio"
   ],
   "outputs": [
    {
     "data": {
      "text/html": [
       "        <script type=\"text/javascript\">\n",
       "        window.PlotlyConfig = {MathJaxConfig: 'local'};\n",
       "        if (window.MathJax && window.MathJax.Hub && window.MathJax.Hub.Config) {window.MathJax.Hub.Config({SVG: {font: \"STIX-Web\"}});}\n",
       "        if (typeof require !== 'undefined') {\n",
       "        require.undef(\"plotly\");\n",
       "        requirejs.config({\n",
       "            paths: {\n",
       "                'plotly': ['https://cdn.plot.ly/plotly-2.30.0.min']\n",
       "            }\n",
       "        });\n",
       "        require(['plotly'], function(Plotly) {\n",
       "            window._Plotly = Plotly;\n",
       "        });\n",
       "        }\n",
       "        </script>\n",
       "        "
      ]
     },
     "metadata": {},
     "output_type": "display_data"
    }
   ],
   "execution_count": 556
  },
  {
   "cell_type": "code",
   "source": [
    "DBNAME = 'project_sql'\n",
    "USER = 'skillfactory'\n",
    "PASSWORD = 'cCkxxLVrDE8EbvjueeMedPKt'\n",
    "HOST = '84.201.134.129'\n",
    "PORT = 5432"
   ],
   "metadata": {
    "id": "oVKH4ehvf8Ay",
    "ExecuteTime": {
     "end_time": "2024-08-04T17:12:50.277323Z",
     "start_time": "2024-08-04T17:12:50.272817Z"
    }
   },
   "id": "oVKH4ehvf8Ay",
   "outputs": [],
   "execution_count": 557
  },
  {
   "cell_type": "code",
   "source": [
    "connection = psycopg2.connect(\n",
    "   dbname=DBNAME,\n",
    "   user=USER,\n",
    "   host=HOST,\n",
    "   password=PASSWORD,\n",
    "   port=PORT\n",
    ")"
   ],
   "metadata": {
    "id": "G4X_q8KBf7SF",
    "ExecuteTime": {
     "end_time": "2024-08-04T17:12:50.379839Z",
     "start_time": "2024-08-04T17:12:50.322005Z"
    }
   },
   "id": "G4X_q8KBf7SF",
   "outputs": [],
   "execution_count": 558
  },
  {
   "cell_type": "markdown",
   "id": "0dc6476b-7a00-44f1-ac93-6e3baed33a29",
   "metadata": {
    "id": "0dc6476b-7a00-44f1-ac93-6e3baed33a29"
   },
   "source": [
    "# Юнит 3. Предварительный анализ данных"
   ]
  },
  {
   "cell_type": "markdown",
   "id": "889782b6-8d1c-410e-8920-e57f27917c64",
   "metadata": {
    "id": "889782b6-8d1c-410e-8920-e57f27917c64"
   },
   "source": [
    "1. Напишите запрос, который посчитает количество вакансий в нашей базе (вакансии находятся в таблице vacancies). "
   ]
  },
  {
   "cell_type": "code",
   "id": "bc39e68e-ed02-4ee2-9235-7258a2f867a8",
   "metadata": {
    "id": "bc39e68e-ed02-4ee2-9235-7258a2f867a8",
    "ExecuteTime": {
     "end_time": "2024-08-04T17:12:50.419133Z",
     "start_time": "2024-08-04T17:12:50.414048Z"
    }
   },
   "source": [
    "# текст запроса\n",
    "query_3_1 = f'''\n",
    "    SELECT count(*) FROM vacancies;\n",
    "'''\n"
   ],
   "outputs": [],
   "execution_count": 559
  },
  {
   "cell_type": "code",
   "source": [
    "df = pd.read_sql_query(query_3_1, connection)\n",
    "df"
   ],
   "metadata": {
    "id": "7mAwtsk4hEHY",
    "ExecuteTime": {
     "end_time": "2024-08-04T17:12:50.482134Z",
     "start_time": "2024-08-04T17:12:50.438468Z"
    }
   },
   "id": "7mAwtsk4hEHY",
   "outputs": [
    {
     "name": "stderr",
     "output_type": "stream",
     "text": [
      "C:\\Users\\NCHirkov\\AppData\\Local\\Temp\\ipykernel_2032\\4206390918.py:1: UserWarning:\n",
      "\n",
      "pandas only supports SQLAlchemy connectable (engine/connection) or database string URI or sqlite3 DBAPI2 connection. Other DBAPI2 objects are not tested. Please consider using SQLAlchemy.\n",
      "\n"
     ]
    },
    {
     "data": {
      "text/plain": [
       "   count\n",
       "0  49197"
      ],
      "text/html": [
       "<div>\n",
       "<style scoped>\n",
       "    .dataframe tbody tr th:only-of-type {\n",
       "        vertical-align: middle;\n",
       "    }\n",
       "\n",
       "    .dataframe tbody tr th {\n",
       "        vertical-align: top;\n",
       "    }\n",
       "\n",
       "    .dataframe thead th {\n",
       "        text-align: right;\n",
       "    }\n",
       "</style>\n",
       "<table border=\"1\" class=\"dataframe\">\n",
       "  <thead>\n",
       "    <tr style=\"text-align: right;\">\n",
       "      <th></th>\n",
       "      <th>count</th>\n",
       "    </tr>\n",
       "  </thead>\n",
       "  <tbody>\n",
       "    <tr>\n",
       "      <th>0</th>\n",
       "      <td>49197</td>\n",
       "    </tr>\n",
       "  </tbody>\n",
       "</table>\n",
       "</div>"
      ]
     },
     "execution_count": 560,
     "metadata": {},
     "output_type": "execute_result"
    }
   ],
   "execution_count": 560
  },
  {
   "cell_type": "markdown",
   "id": "b583485d-1f9e-494e-ada4-80ffff7c53d6",
   "metadata": {
    "id": "b583485d-1f9e-494e-ada4-80ffff7c53d6"
   },
   "source": [
    "2. Напишите запрос, который посчитает количество работодателей (таблица employers). "
   ]
  },
  {
   "cell_type": "code",
   "id": "5408c52c-3407-4a63-b25b-1aafa2322d28",
   "metadata": {
    "id": "5408c52c-3407-4a63-b25b-1aafa2322d28",
    "ExecuteTime": {
     "end_time": "2024-08-04T17:12:50.488310Z",
     "start_time": "2024-08-04T17:12:50.482633Z"
    }
   },
   "source": [
    "# текст запроса\n",
    "query_3_2 = f'''\n",
    "    SELECT count(*) FROM employers;\n",
    "'''"
   ],
   "outputs": [],
   "execution_count": 561
  },
  {
   "cell_type": "code",
   "source": [
    "df = pd.read_sql_query(query_3_2, connection)\n",
    "df"
   ],
   "metadata": {
    "id": "jVL4eshKhdqc",
    "ExecuteTime": {
     "end_time": "2024-08-04T17:12:50.595791Z",
     "start_time": "2024-08-04T17:12:50.569654Z"
    }
   },
   "id": "jVL4eshKhdqc",
   "outputs": [
    {
     "name": "stderr",
     "output_type": "stream",
     "text": [
      "C:\\Users\\NCHirkov\\AppData\\Local\\Temp\\ipykernel_2032\\3994507252.py:1: UserWarning:\n",
      "\n",
      "pandas only supports SQLAlchemy connectable (engine/connection) or database string URI or sqlite3 DBAPI2 connection. Other DBAPI2 objects are not tested. Please consider using SQLAlchemy.\n",
      "\n"
     ]
    },
    {
     "data": {
      "text/plain": [
       "   count\n",
       "0  23501"
      ],
      "text/html": [
       "<div>\n",
       "<style scoped>\n",
       "    .dataframe tbody tr th:only-of-type {\n",
       "        vertical-align: middle;\n",
       "    }\n",
       "\n",
       "    .dataframe tbody tr th {\n",
       "        vertical-align: top;\n",
       "    }\n",
       "\n",
       "    .dataframe thead th {\n",
       "        text-align: right;\n",
       "    }\n",
       "</style>\n",
       "<table border=\"1\" class=\"dataframe\">\n",
       "  <thead>\n",
       "    <tr style=\"text-align: right;\">\n",
       "      <th></th>\n",
       "      <th>count</th>\n",
       "    </tr>\n",
       "  </thead>\n",
       "  <tbody>\n",
       "    <tr>\n",
       "      <th>0</th>\n",
       "      <td>23501</td>\n",
       "    </tr>\n",
       "  </tbody>\n",
       "</table>\n",
       "</div>"
      ]
     },
     "execution_count": 562,
     "metadata": {},
     "output_type": "execute_result"
    }
   ],
   "execution_count": 562
  },
  {
   "cell_type": "markdown",
   "id": "a2bfff1f-c975-4bf6-84be-2185d79dcb76",
   "metadata": {
    "id": "a2bfff1f-c975-4bf6-84be-2185d79dcb76"
   },
   "source": [
    "3. Посчитате с помощью запроса количество регионов (таблица areas)."
   ]
  },
  {
   "cell_type": "code",
   "source": [
    "query_3_3 = f'''\n",
    "SELECT count(*) FROM areas;\n",
    "'''"
   ],
   "metadata": {
    "id": "1m8QJwBYhey6",
    "ExecuteTime": {
     "end_time": "2024-08-04T17:12:50.626736Z",
     "start_time": "2024-08-04T17:12:50.610982Z"
    }
   },
   "id": "1m8QJwBYhey6",
   "outputs": [],
   "execution_count": 563
  },
  {
   "cell_type": "code",
   "source": [
    "df = pd.read_sql_query(query_3_3, connection)\n",
    "df"
   ],
   "metadata": {
    "id": "EZsn9tlfhe7f",
    "ExecuteTime": {
     "end_time": "2024-08-04T17:12:50.862370Z",
     "start_time": "2024-08-04T17:12:50.836970Z"
    }
   },
   "id": "EZsn9tlfhe7f",
   "outputs": [
    {
     "name": "stderr",
     "output_type": "stream",
     "text": [
      "C:\\Users\\NCHirkov\\AppData\\Local\\Temp\\ipykernel_2032\\2361023096.py:1: UserWarning:\n",
      "\n",
      "pandas only supports SQLAlchemy connectable (engine/connection) or database string URI or sqlite3 DBAPI2 connection. Other DBAPI2 objects are not tested. Please consider using SQLAlchemy.\n",
      "\n"
     ]
    },
    {
     "data": {
      "text/plain": [
       "   count\n",
       "0   1362"
      ],
      "text/html": [
       "<div>\n",
       "<style scoped>\n",
       "    .dataframe tbody tr th:only-of-type {\n",
       "        vertical-align: middle;\n",
       "    }\n",
       "\n",
       "    .dataframe tbody tr th {\n",
       "        vertical-align: top;\n",
       "    }\n",
       "\n",
       "    .dataframe thead th {\n",
       "        text-align: right;\n",
       "    }\n",
       "</style>\n",
       "<table border=\"1\" class=\"dataframe\">\n",
       "  <thead>\n",
       "    <tr style=\"text-align: right;\">\n",
       "      <th></th>\n",
       "      <th>count</th>\n",
       "    </tr>\n",
       "  </thead>\n",
       "  <tbody>\n",
       "    <tr>\n",
       "      <th>0</th>\n",
       "      <td>1362</td>\n",
       "    </tr>\n",
       "  </tbody>\n",
       "</table>\n",
       "</div>"
      ]
     },
     "execution_count": 564,
     "metadata": {},
     "output_type": "execute_result"
    }
   ],
   "execution_count": 564
  },
  {
   "cell_type": "markdown",
   "id": "41bb59f3-53cc-4a67-a5bc-bedf573955e4",
   "metadata": {
    "id": "41bb59f3-53cc-4a67-a5bc-bedf573955e4"
   },
   "source": [
    "4. Посчитате с помощью запроса количество сфер деятельности в базе (таблица industries)."
   ]
  },
  {
   "cell_type": "code",
   "id": "d286cf4c-707b-4cd2-9190-7ab3587d04a1",
   "metadata": {
    "id": "d286cf4c-707b-4cd2-9190-7ab3587d04a1",
    "ExecuteTime": {
     "end_time": "2024-08-04T17:12:50.996608Z",
     "start_time": "2024-08-04T17:12:50.990623Z"
    }
   },
   "source": [
    "query_3_4 = f'''\n",
    "SELECT count(*) FROM industries;\n",
    "'''"
   ],
   "outputs": [],
   "execution_count": 565
  },
  {
   "cell_type": "code",
   "source": [
    "df = pd.read_sql_query(query_3_4, connection)\n",
    "df"
   ],
   "metadata": {
    "id": "JYAaoZ4qhfzW",
    "ExecuteTime": {
     "end_time": "2024-08-04T17:12:51.191969Z",
     "start_time": "2024-08-04T17:12:51.164251Z"
    }
   },
   "id": "JYAaoZ4qhfzW",
   "outputs": [
    {
     "name": "stderr",
     "output_type": "stream",
     "text": [
      "C:\\Users\\NCHirkov\\AppData\\Local\\Temp\\ipykernel_2032\\1485325140.py:1: UserWarning:\n",
      "\n",
      "pandas only supports SQLAlchemy connectable (engine/connection) or database string URI or sqlite3 DBAPI2 connection. Other DBAPI2 objects are not tested. Please consider using SQLAlchemy.\n",
      "\n"
     ]
    },
    {
     "data": {
      "text/plain": [
       "   count\n",
       "0    294"
      ],
      "text/html": [
       "<div>\n",
       "<style scoped>\n",
       "    .dataframe tbody tr th:only-of-type {\n",
       "        vertical-align: middle;\n",
       "    }\n",
       "\n",
       "    .dataframe tbody tr th {\n",
       "        vertical-align: top;\n",
       "    }\n",
       "\n",
       "    .dataframe thead th {\n",
       "        text-align: right;\n",
       "    }\n",
       "</style>\n",
       "<table border=\"1\" class=\"dataframe\">\n",
       "  <thead>\n",
       "    <tr style=\"text-align: right;\">\n",
       "      <th></th>\n",
       "      <th>count</th>\n",
       "    </tr>\n",
       "  </thead>\n",
       "  <tbody>\n",
       "    <tr>\n",
       "      <th>0</th>\n",
       "      <td>294</td>\n",
       "    </tr>\n",
       "  </tbody>\n",
       "</table>\n",
       "</div>"
      ]
     },
     "execution_count": 566,
     "metadata": {},
     "output_type": "execute_result"
    }
   ],
   "execution_count": 566
  },
  {
   "cell_type": "markdown",
   "id": "9a8a2181-6914-448b-85f1-38f5f18b8a93",
   "metadata": {
    "id": "9a8a2181-6914-448b-85f1-38f5f18b8a93"
   },
   "source": [
    "***"
   ]
  },
  {
   "metadata": {},
   "cell_type": "markdown",
   "source": [
    "В исследуемой БД:\n",
    "49197 вакансий\n",
    "23501 работодателей\n",
    "работу предлагают в 1362 регионах\n",
    "поиск работы охватывает 294 сферы деятельности"
   ],
   "id": "24081152e301ce36"
  },
  {
   "cell_type": "markdown",
   "id": "8d62a9f3-f64e-4fe7-bdac-c4dffa16155e",
   "metadata": {
    "id": "8d62a9f3-f64e-4fe7-bdac-c4dffa16155e"
   },
   "source": [
    "# Юнит 4. Детальный анализ вакансий"
   ]
  },
  {
   "cell_type": "markdown",
   "id": "93053d3d-b284-481a-9cf7-012d7014c0e0",
   "metadata": {
    "id": "93053d3d-b284-481a-9cf7-012d7014c0e0"
   },
   "source": [
    "1. Напишите запрос, который позволит узнать, сколько (cnt) вакансий в каждом регионе (area).\n",
    "Отсортируйте по количеству вакансий в порядке убывания."
   ]
  },
  {
   "cell_type": "code",
   "id": "3f069da6-fdc9-4ae7-b514-fafe2675efd3",
   "metadata": {
    "id": "3f069da6-fdc9-4ae7-b514-fafe2675efd3",
    "ExecuteTime": {
     "end_time": "2024-08-04T17:12:51.310927Z",
     "start_time": "2024-08-04T17:12:51.305807Z"
    }
   },
   "source": [
    "# текст запроса\n",
    "query_4_1 = f'''\n",
    "SELECT \n",
    "\ta.\"name\" as \"регион\", \t\n",
    "\tcount(v.area_id) as \"количество вакансий\"\n",
    "FROM vacancies v\n",
    "join areas a on v.area_id = a.id \n",
    "group by \"регион\"\n",
    "order by \"количество вакансий\" desc \n",
    "'''"
   ],
   "outputs": [],
   "execution_count": 567
  },
  {
   "cell_type": "code",
   "source": [
    "df = pd.read_sql_query(query_4_1, connection)\n",
    "df"
   ],
   "metadata": {
    "id": "P7QL86hrjhRJ",
    "ExecuteTime": {
     "end_time": "2024-08-04T17:12:51.473899Z",
     "start_time": "2024-08-04T17:12:51.402555Z"
    }
   },
   "id": "P7QL86hrjhRJ",
   "outputs": [
    {
     "name": "stderr",
     "output_type": "stream",
     "text": [
      "C:\\Users\\NCHirkov\\AppData\\Local\\Temp\\ipykernel_2032\\168200814.py:1: UserWarning:\n",
      "\n",
      "pandas only supports SQLAlchemy connectable (engine/connection) or database string URI or sqlite3 DBAPI2 connection. Other DBAPI2 objects are not tested. Please consider using SQLAlchemy.\n",
      "\n"
     ]
    },
    {
     "data": {
      "text/plain": [
       "              регион  количество вакансий\n",
       "0             Москва                 5333\n",
       "1    Санкт-Петербург                 2851\n",
       "2              Минск                 2112\n",
       "3        Новосибирск                 2006\n",
       "4             Алматы                 1892\n",
       "..               ...                  ...\n",
       "764       Тарко-Сале                    1\n",
       "765    Новоаннинский                    1\n",
       "766            Бирск                    1\n",
       "767           Сасово                    1\n",
       "768             Анна                    1\n",
       "\n",
       "[769 rows x 2 columns]"
      ],
      "text/html": [
       "<div>\n",
       "<style scoped>\n",
       "    .dataframe tbody tr th:only-of-type {\n",
       "        vertical-align: middle;\n",
       "    }\n",
       "\n",
       "    .dataframe tbody tr th {\n",
       "        vertical-align: top;\n",
       "    }\n",
       "\n",
       "    .dataframe thead th {\n",
       "        text-align: right;\n",
       "    }\n",
       "</style>\n",
       "<table border=\"1\" class=\"dataframe\">\n",
       "  <thead>\n",
       "    <tr style=\"text-align: right;\">\n",
       "      <th></th>\n",
       "      <th>регион</th>\n",
       "      <th>количество вакансий</th>\n",
       "    </tr>\n",
       "  </thead>\n",
       "  <tbody>\n",
       "    <tr>\n",
       "      <th>0</th>\n",
       "      <td>Москва</td>\n",
       "      <td>5333</td>\n",
       "    </tr>\n",
       "    <tr>\n",
       "      <th>1</th>\n",
       "      <td>Санкт-Петербург</td>\n",
       "      <td>2851</td>\n",
       "    </tr>\n",
       "    <tr>\n",
       "      <th>2</th>\n",
       "      <td>Минск</td>\n",
       "      <td>2112</td>\n",
       "    </tr>\n",
       "    <tr>\n",
       "      <th>3</th>\n",
       "      <td>Новосибирск</td>\n",
       "      <td>2006</td>\n",
       "    </tr>\n",
       "    <tr>\n",
       "      <th>4</th>\n",
       "      <td>Алматы</td>\n",
       "      <td>1892</td>\n",
       "    </tr>\n",
       "    <tr>\n",
       "      <th>...</th>\n",
       "      <td>...</td>\n",
       "      <td>...</td>\n",
       "    </tr>\n",
       "    <tr>\n",
       "      <th>764</th>\n",
       "      <td>Тарко-Сале</td>\n",
       "      <td>1</td>\n",
       "    </tr>\n",
       "    <tr>\n",
       "      <th>765</th>\n",
       "      <td>Новоаннинский</td>\n",
       "      <td>1</td>\n",
       "    </tr>\n",
       "    <tr>\n",
       "      <th>766</th>\n",
       "      <td>Бирск</td>\n",
       "      <td>1</td>\n",
       "    </tr>\n",
       "    <tr>\n",
       "      <th>767</th>\n",
       "      <td>Сасово</td>\n",
       "      <td>1</td>\n",
       "    </tr>\n",
       "    <tr>\n",
       "      <th>768</th>\n",
       "      <td>Анна</td>\n",
       "      <td>1</td>\n",
       "    </tr>\n",
       "  </tbody>\n",
       "</table>\n",
       "<p>769 rows × 2 columns</p>\n",
       "</div>"
      ]
     },
     "execution_count": 568,
     "metadata": {},
     "output_type": "execute_result"
    }
   ],
   "execution_count": 568
  },
  {
   "cell_type": "markdown",
   "id": "4266f0b6-1646-492a-88b4-2f6a46502135",
   "metadata": {
    "id": "4266f0b6-1646-492a-88b4-2f6a46502135"
   },
   "source": [
    "2. Напишите запрос, чтобы определить у какого количества вакансий заполнено хотя бы одно из двух полей с зарплатой."
   ]
  },
  {
   "cell_type": "code",
   "id": "0c44b350-72eb-4d65-8b54-a1fc449ba9fd",
   "metadata": {
    "id": "0c44b350-72eb-4d65-8b54-a1fc449ba9fd",
    "ExecuteTime": {
     "end_time": "2024-08-04T17:12:51.567105Z",
     "start_time": "2024-08-04T17:12:51.563091Z"
    }
   },
   "source": [
    "query_4_2 = f'''\n",
    "select count(*) from vacancies v\n",
    "where (salary_from is not null) or (salary_to is not null)\n",
    "'''"
   ],
   "outputs": [],
   "execution_count": 569
  },
  {
   "cell_type": "code",
   "source": [
    "df = pd.read_sql_query(query_4_2, connection)\n",
    "df"
   ],
   "metadata": {
    "id": "rhvwaMDkoWTi",
    "ExecuteTime": {
     "end_time": "2024-08-04T17:12:51.675835Z",
     "start_time": "2024-08-04T17:12:51.640538Z"
    }
   },
   "id": "rhvwaMDkoWTi",
   "outputs": [
    {
     "name": "stderr",
     "output_type": "stream",
     "text": [
      "C:\\Users\\NCHirkov\\AppData\\Local\\Temp\\ipykernel_2032\\2461021528.py:1: UserWarning:\n",
      "\n",
      "pandas only supports SQLAlchemy connectable (engine/connection) or database string URI or sqlite3 DBAPI2 connection. Other DBAPI2 objects are not tested. Please consider using SQLAlchemy.\n",
      "\n"
     ]
    },
    {
     "data": {
      "text/plain": [
       "   count\n",
       "0  24073"
      ],
      "text/html": [
       "<div>\n",
       "<style scoped>\n",
       "    .dataframe tbody tr th:only-of-type {\n",
       "        vertical-align: middle;\n",
       "    }\n",
       "\n",
       "    .dataframe tbody tr th {\n",
       "        vertical-align: top;\n",
       "    }\n",
       "\n",
       "    .dataframe thead th {\n",
       "        text-align: right;\n",
       "    }\n",
       "</style>\n",
       "<table border=\"1\" class=\"dataframe\">\n",
       "  <thead>\n",
       "    <tr style=\"text-align: right;\">\n",
       "      <th></th>\n",
       "      <th>count</th>\n",
       "    </tr>\n",
       "  </thead>\n",
       "  <tbody>\n",
       "    <tr>\n",
       "      <th>0</th>\n",
       "      <td>24073</td>\n",
       "    </tr>\n",
       "  </tbody>\n",
       "</table>\n",
       "</div>"
      ]
     },
     "execution_count": 570,
     "metadata": {},
     "output_type": "execute_result"
    }
   ],
   "execution_count": 570
  },
  {
   "cell_type": "markdown",
   "id": "635c4d5d-f323-4c66-b428-50a088120aa0",
   "metadata": {
    "id": "635c4d5d-f323-4c66-b428-50a088120aa0"
   },
   "source": [
    "3. Найдите средние значения для нижней и верхней границы зарплатной вилки. Округлите значения до целого."
   ]
  },
  {
   "cell_type": "code",
   "id": "603cdbe4-0ec3-4106-8eaf-c73fcdd29165",
   "metadata": {
    "id": "603cdbe4-0ec3-4106-8eaf-c73fcdd29165",
    "ExecuteTime": {
     "end_time": "2024-08-04T17:12:51.841778Z",
     "start_time": "2024-08-04T17:12:51.837387Z"
    }
   },
   "source": [
    "query_4_3 = f'''\n",
    "select \n",
    "\tROUND(avg(salary_from),0) \"ср. для нижней границы ЗП \",\n",
    "\tROUND(avg(salary_to),0) \"ср. для верхней границы ЗП \"\n",
    "from vacancies v\n",
    "'''"
   ],
   "outputs": [],
   "execution_count": 571
  },
  {
   "cell_type": "code",
   "source": [
    "df = pd.read_sql_query(query_4_3, connection)\n",
    "df"
   ],
   "metadata": {
    "id": "pswpAb66ovZZ",
    "ExecuteTime": {
     "end_time": "2024-08-04T17:12:51.965350Z",
     "start_time": "2024-08-04T17:12:51.933281Z"
    }
   },
   "id": "pswpAb66ovZZ",
   "outputs": [
    {
     "name": "stderr",
     "output_type": "stream",
     "text": [
      "C:\\Users\\NCHirkov\\AppData\\Local\\Temp\\ipykernel_2032\\414995271.py:1: UserWarning:\n",
      "\n",
      "pandas only supports SQLAlchemy connectable (engine/connection) or database string URI or sqlite3 DBAPI2 connection. Other DBAPI2 objects are not tested. Please consider using SQLAlchemy.\n",
      "\n"
     ]
    },
    {
     "data": {
      "text/plain": [
       "   ср. для нижней границы ЗП   ср. для верхней границы ЗП \n",
       "0                     71065.0                     110537.0"
      ],
      "text/html": [
       "<div>\n",
       "<style scoped>\n",
       "    .dataframe tbody tr th:only-of-type {\n",
       "        vertical-align: middle;\n",
       "    }\n",
       "\n",
       "    .dataframe tbody tr th {\n",
       "        vertical-align: top;\n",
       "    }\n",
       "\n",
       "    .dataframe thead th {\n",
       "        text-align: right;\n",
       "    }\n",
       "</style>\n",
       "<table border=\"1\" class=\"dataframe\">\n",
       "  <thead>\n",
       "    <tr style=\"text-align: right;\">\n",
       "      <th></th>\n",
       "      <th>ср. для нижней границы ЗП</th>\n",
       "      <th>ср. для верхней границы ЗП</th>\n",
       "    </tr>\n",
       "  </thead>\n",
       "  <tbody>\n",
       "    <tr>\n",
       "      <th>0</th>\n",
       "      <td>71065.0</td>\n",
       "      <td>110537.0</td>\n",
       "    </tr>\n",
       "  </tbody>\n",
       "</table>\n",
       "</div>"
      ]
     },
     "execution_count": 572,
     "metadata": {},
     "output_type": "execute_result"
    }
   ],
   "execution_count": 572
  },
  {
   "metadata": {
    "ExecuteTime": {
     "end_time": "2024-08-04T17:12:52.098371Z",
     "start_time": "2024-08-04T17:12:52.094987Z"
    }
   },
   "cell_type": "code",
   "source": "",
   "id": "d823d7b876c89b20",
   "outputs": [],
   "execution_count": 572
  },
  {
   "cell_type": "markdown",
   "id": "f3fdaec9-5fd3-4260-9cf5-1d7406b628a5",
   "metadata": {
    "id": "f3fdaec9-5fd3-4260-9cf5-1d7406b628a5"
   },
   "source": [
    "4. Напишите запрос, который выведет количество вакансий для каждого сочетания типа рабочего графика (schedule) и типа трудоустройства (employment), используемого в вакансиях. Результат отсортируйте по убыванию количества.\n"
   ]
  },
  {
   "cell_type": "code",
   "id": "1ea710ec-871b-431e-9462-c7d0fd87011b",
   "metadata": {
    "id": "1ea710ec-871b-431e-9462-c7d0fd87011b",
    "ExecuteTime": {
     "end_time": "2024-08-04T17:12:52.176416Z",
     "start_time": "2024-08-04T17:12:52.172131Z"
    }
   },
   "source": [
    "query_4_4 = f'''\n",
    "select \n",
    "\tschedule,\n",
    "\temployment,\n",
    "\tcount(*) vacancie_cnt\n",
    "from vacancies v\n",
    "group by schedule, employment\n",
    "order by 3 desc \n",
    "'''"
   ],
   "outputs": [],
   "execution_count": 573
  },
  {
   "cell_type": "code",
   "source": [
    "df = pd.read_sql_query(query_4_4, connection)\n",
    "df"
   ],
   "metadata": {
    "id": "lGUVqavdo4JQ",
    "ExecuteTime": {
     "end_time": "2024-08-04T17:12:52.367224Z",
     "start_time": "2024-08-04T17:12:52.321214Z"
    }
   },
   "id": "lGUVqavdo4JQ",
   "outputs": [
    {
     "name": "stderr",
     "output_type": "stream",
     "text": [
      "C:\\Users\\NCHirkov\\AppData\\Local\\Temp\\ipykernel_2032\\1428108846.py:1: UserWarning:\n",
      "\n",
      "pandas only supports SQLAlchemy connectable (engine/connection) or database string URI or sqlite3 DBAPI2 connection. Other DBAPI2 objects are not tested. Please consider using SQLAlchemy.\n",
      "\n"
     ]
    },
    {
     "data": {
      "text/plain": [
       "            schedule           employment  vacancie_cnt\n",
       "0        Полный день     Полная занятость         35367\n",
       "1   Удаленная работа     Полная занятость          7802\n",
       "2      Гибкий график     Полная занятость          1593\n",
       "3   Удаленная работа  Частичная занятость          1312\n",
       "4     Сменный график     Полная занятость           940\n",
       "5        Полный день           Стажировка           569\n",
       "6     Вахтовый метод     Полная занятость           367\n",
       "7        Полный день  Частичная занятость           347\n",
       "8      Гибкий график  Частичная занятость           312\n",
       "9        Полный день     Проектная работа           141\n",
       "10  Удаленная работа     Проектная работа           133\n",
       "11     Гибкий график           Стажировка           116\n",
       "12    Сменный график  Частичная занятость           101\n",
       "13  Удаленная работа           Стажировка            64\n",
       "14     Гибкий график     Проектная работа            18\n",
       "15    Сменный график           Стажировка            12\n",
       "16    Вахтовый метод     Проектная работа             2\n",
       "17    Сменный график     Проектная работа             1"
      ],
      "text/html": [
       "<div>\n",
       "<style scoped>\n",
       "    .dataframe tbody tr th:only-of-type {\n",
       "        vertical-align: middle;\n",
       "    }\n",
       "\n",
       "    .dataframe tbody tr th {\n",
       "        vertical-align: top;\n",
       "    }\n",
       "\n",
       "    .dataframe thead th {\n",
       "        text-align: right;\n",
       "    }\n",
       "</style>\n",
       "<table border=\"1\" class=\"dataframe\">\n",
       "  <thead>\n",
       "    <tr style=\"text-align: right;\">\n",
       "      <th></th>\n",
       "      <th>schedule</th>\n",
       "      <th>employment</th>\n",
       "      <th>vacancie_cnt</th>\n",
       "    </tr>\n",
       "  </thead>\n",
       "  <tbody>\n",
       "    <tr>\n",
       "      <th>0</th>\n",
       "      <td>Полный день</td>\n",
       "      <td>Полная занятость</td>\n",
       "      <td>35367</td>\n",
       "    </tr>\n",
       "    <tr>\n",
       "      <th>1</th>\n",
       "      <td>Удаленная работа</td>\n",
       "      <td>Полная занятость</td>\n",
       "      <td>7802</td>\n",
       "    </tr>\n",
       "    <tr>\n",
       "      <th>2</th>\n",
       "      <td>Гибкий график</td>\n",
       "      <td>Полная занятость</td>\n",
       "      <td>1593</td>\n",
       "    </tr>\n",
       "    <tr>\n",
       "      <th>3</th>\n",
       "      <td>Удаленная работа</td>\n",
       "      <td>Частичная занятость</td>\n",
       "      <td>1312</td>\n",
       "    </tr>\n",
       "    <tr>\n",
       "      <th>4</th>\n",
       "      <td>Сменный график</td>\n",
       "      <td>Полная занятость</td>\n",
       "      <td>940</td>\n",
       "    </tr>\n",
       "    <tr>\n",
       "      <th>5</th>\n",
       "      <td>Полный день</td>\n",
       "      <td>Стажировка</td>\n",
       "      <td>569</td>\n",
       "    </tr>\n",
       "    <tr>\n",
       "      <th>6</th>\n",
       "      <td>Вахтовый метод</td>\n",
       "      <td>Полная занятость</td>\n",
       "      <td>367</td>\n",
       "    </tr>\n",
       "    <tr>\n",
       "      <th>7</th>\n",
       "      <td>Полный день</td>\n",
       "      <td>Частичная занятость</td>\n",
       "      <td>347</td>\n",
       "    </tr>\n",
       "    <tr>\n",
       "      <th>8</th>\n",
       "      <td>Гибкий график</td>\n",
       "      <td>Частичная занятость</td>\n",
       "      <td>312</td>\n",
       "    </tr>\n",
       "    <tr>\n",
       "      <th>9</th>\n",
       "      <td>Полный день</td>\n",
       "      <td>Проектная работа</td>\n",
       "      <td>141</td>\n",
       "    </tr>\n",
       "    <tr>\n",
       "      <th>10</th>\n",
       "      <td>Удаленная работа</td>\n",
       "      <td>Проектная работа</td>\n",
       "      <td>133</td>\n",
       "    </tr>\n",
       "    <tr>\n",
       "      <th>11</th>\n",
       "      <td>Гибкий график</td>\n",
       "      <td>Стажировка</td>\n",
       "      <td>116</td>\n",
       "    </tr>\n",
       "    <tr>\n",
       "      <th>12</th>\n",
       "      <td>Сменный график</td>\n",
       "      <td>Частичная занятость</td>\n",
       "      <td>101</td>\n",
       "    </tr>\n",
       "    <tr>\n",
       "      <th>13</th>\n",
       "      <td>Удаленная работа</td>\n",
       "      <td>Стажировка</td>\n",
       "      <td>64</td>\n",
       "    </tr>\n",
       "    <tr>\n",
       "      <th>14</th>\n",
       "      <td>Гибкий график</td>\n",
       "      <td>Проектная работа</td>\n",
       "      <td>18</td>\n",
       "    </tr>\n",
       "    <tr>\n",
       "      <th>15</th>\n",
       "      <td>Сменный график</td>\n",
       "      <td>Стажировка</td>\n",
       "      <td>12</td>\n",
       "    </tr>\n",
       "    <tr>\n",
       "      <th>16</th>\n",
       "      <td>Вахтовый метод</td>\n",
       "      <td>Проектная работа</td>\n",
       "      <td>2</td>\n",
       "    </tr>\n",
       "    <tr>\n",
       "      <th>17</th>\n",
       "      <td>Сменный график</td>\n",
       "      <td>Проектная работа</td>\n",
       "      <td>1</td>\n",
       "    </tr>\n",
       "  </tbody>\n",
       "</table>\n",
       "</div>"
      ]
     },
     "execution_count": 574,
     "metadata": {},
     "output_type": "execute_result"
    }
   ],
   "execution_count": 574
  },
  {
   "cell_type": "markdown",
   "id": "0136ffee-0ead-4a6b-b608-61d1c753a438",
   "metadata": {
    "id": "0136ffee-0ead-4a6b-b608-61d1c753a438"
   },
   "source": [
    "5. Напишите запрос, выводящий значения поля Требуемый опыт работы (experience) в порядке возрастания количества вакансий, в которых указан данный вариант опыта. "
   ]
  },
  {
   "cell_type": "code",
   "id": "5b3a8e79-f7ab-4008-b767-12aea3a205ea",
   "metadata": {
    "id": "5b3a8e79-f7ab-4008-b767-12aea3a205ea",
    "ExecuteTime": {
     "end_time": "2024-08-04T17:12:52.482739Z",
     "start_time": "2024-08-04T17:12:52.478139Z"
    }
   },
   "source": [
    "# текст запроса\n",
    "query_4_5 = f'''\n",
    "select \n",
    "\texperience ,\n",
    "\tcount(*) \n",
    "from vacancies v\n",
    "group by experience\n",
    "order by 2\n",
    "'''"
   ],
   "outputs": [],
   "execution_count": 575
  },
  {
   "cell_type": "code",
   "source": [
    "df = pd.read_sql_query(query_4_5, connection)\n",
    "df"
   ],
   "metadata": {
    "id": "3Is64Y-hpDpq",
    "ExecuteTime": {
     "end_time": "2024-08-04T17:12:52.629710Z",
     "start_time": "2024-08-04T17:12:52.582871Z"
    }
   },
   "id": "3Is64Y-hpDpq",
   "outputs": [
    {
     "name": "stderr",
     "output_type": "stream",
     "text": [
      "C:\\Users\\NCHirkov\\AppData\\Local\\Temp\\ipykernel_2032\\110506269.py:1: UserWarning:\n",
      "\n",
      "pandas only supports SQLAlchemy connectable (engine/connection) or database string URI or sqlite3 DBAPI2 connection. Other DBAPI2 objects are not tested. Please consider using SQLAlchemy.\n",
      "\n"
     ]
    },
    {
     "data": {
      "text/plain": [
       "           experience  count\n",
       "0         Более 6 лет   1337\n",
       "1           Нет опыта   7197\n",
       "2       От 3 до 6 лет  14511\n",
       "3  От 1 года до 3 лет  26152"
      ],
      "text/html": [
       "<div>\n",
       "<style scoped>\n",
       "    .dataframe tbody tr th:only-of-type {\n",
       "        vertical-align: middle;\n",
       "    }\n",
       "\n",
       "    .dataframe tbody tr th {\n",
       "        vertical-align: top;\n",
       "    }\n",
       "\n",
       "    .dataframe thead th {\n",
       "        text-align: right;\n",
       "    }\n",
       "</style>\n",
       "<table border=\"1\" class=\"dataframe\">\n",
       "  <thead>\n",
       "    <tr style=\"text-align: right;\">\n",
       "      <th></th>\n",
       "      <th>experience</th>\n",
       "      <th>count</th>\n",
       "    </tr>\n",
       "  </thead>\n",
       "  <tbody>\n",
       "    <tr>\n",
       "      <th>0</th>\n",
       "      <td>Более 6 лет</td>\n",
       "      <td>1337</td>\n",
       "    </tr>\n",
       "    <tr>\n",
       "      <th>1</th>\n",
       "      <td>Нет опыта</td>\n",
       "      <td>7197</td>\n",
       "    </tr>\n",
       "    <tr>\n",
       "      <th>2</th>\n",
       "      <td>От 3 до 6 лет</td>\n",
       "      <td>14511</td>\n",
       "    </tr>\n",
       "    <tr>\n",
       "      <th>3</th>\n",
       "      <td>От 1 года до 3 лет</td>\n",
       "      <td>26152</td>\n",
       "    </tr>\n",
       "  </tbody>\n",
       "</table>\n",
       "</div>"
      ]
     },
     "execution_count": 576,
     "metadata": {},
     "output_type": "execute_result"
    }
   ],
   "execution_count": 576
  },
  {
   "metadata": {},
   "cell_type": "markdown",
   "source": [
    "ВЫВОДЫ:\n",
    "1) Лидерами по количеству вакансий являются города: Москва, Санкт-Петербург, Минск, Новосибирск, Алматы. Это не удивительно, т.к. именно там больше всего население\n",
    "2) У больше половины вакансий не заполнены поля с желаемой зарплатой. Заполнено всего у 24073 из 49197\n",
    "3) Зарплатная вилка в среднем не сильно большая от 71065 до 110537\n",
    "4) У большинства соискателей в требованиях указаны Полный день и Полная занятость\n",
    "5) Большинство соискателей имеют опыт работы от 1 до 3 лет \n",
    "6) Из графика видно, что при частичной занятости предлагается в большенстве случаев удаленная работа"
   ],
   "id": "6d619650dc164536"
  },
  {
   "cell_type": "markdown",
   "source": [
    "***"
   ],
   "metadata": {
    "id": "oq2b7n1QpIka"
   },
   "id": "oq2b7n1QpIka"
  },
  {
   "cell_type": "markdown",
   "id": "7ea20ab6-04a7-40a0-adec-443a0e5a42c3",
   "metadata": {
    "id": "7ea20ab6-04a7-40a0-adec-443a0e5a42c3"
   },
   "source": [
    "# Юнит 5. Анализ работодателей"
   ]
  },
  {
   "cell_type": "markdown",
   "id": "968aed80-74ef-4ffb-b5bf-c65b84e9caea",
   "metadata": {
    "id": "968aed80-74ef-4ffb-b5bf-c65b84e9caea"
   },
   "source": [
    "1. Напишите запрос, который позволит узнать, какие работодатели находятся на первом и пятом месте по количеству вакансий."
   ]
  },
  {
   "cell_type": "code",
   "id": "f2d62796-d400-4ec1-a675-88112739a50e",
   "metadata": {
    "id": "f2d62796-d400-4ec1-a675-88112739a50e",
    "ExecuteTime": {
     "end_time": "2024-08-04T17:12:52.712549Z",
     "start_time": "2024-08-04T17:12:52.708065Z"
    }
   },
   "source": [
    "# текст запроса\n",
    "query_5_1 = f'''\n",
    "select\n",
    "\te.\"name\" as \"работодатель\",\n",
    "\tcount(*) as \"количество вакансий\"\n",
    "from vacancies v\n",
    "join employers e on v.employer_id = e.id\n",
    "group by \"работодатель\"\n",
    "order by \"количество вакансий\" desc\n",
    "limit 5\n",
    "'''"
   ],
   "outputs": [],
   "execution_count": 577
  },
  {
   "cell_type": "code",
   "source": [
    "df = pd.read_sql_query(query_5_1, connection)\n",
    "df"
   ],
   "metadata": {
    "id": "64tOMkAxqkQk",
    "ExecuteTime": {
     "end_time": "2024-08-04T17:12:52.824471Z",
     "start_time": "2024-08-04T17:12:52.743344Z"
    }
   },
   "id": "64tOMkAxqkQk",
   "outputs": [
    {
     "name": "stderr",
     "output_type": "stream",
     "text": [
      "C:\\Users\\NCHirkov\\AppData\\Local\\Temp\\ipykernel_2032\\3617394740.py:1: UserWarning:\n",
      "\n",
      "pandas only supports SQLAlchemy connectable (engine/connection) or database string URI or sqlite3 DBAPI2 connection. Other DBAPI2 objects are not tested. Please consider using SQLAlchemy.\n",
      "\n"
     ]
    },
    {
     "data": {
      "text/plain": [
       "    работодатель  количество вакансий\n",
       "0         Яндекс                 1933\n",
       "1     Ростелеком                  491\n",
       "2       Тинькофф                  444\n",
       "3           СБЕР                  428\n",
       "4  Газпром нефть                  331"
      ],
      "text/html": [
       "<div>\n",
       "<style scoped>\n",
       "    .dataframe tbody tr th:only-of-type {\n",
       "        vertical-align: middle;\n",
       "    }\n",
       "\n",
       "    .dataframe tbody tr th {\n",
       "        vertical-align: top;\n",
       "    }\n",
       "\n",
       "    .dataframe thead th {\n",
       "        text-align: right;\n",
       "    }\n",
       "</style>\n",
       "<table border=\"1\" class=\"dataframe\">\n",
       "  <thead>\n",
       "    <tr style=\"text-align: right;\">\n",
       "      <th></th>\n",
       "      <th>работодатель</th>\n",
       "      <th>количество вакансий</th>\n",
       "    </tr>\n",
       "  </thead>\n",
       "  <tbody>\n",
       "    <tr>\n",
       "      <th>0</th>\n",
       "      <td>Яндекс</td>\n",
       "      <td>1933</td>\n",
       "    </tr>\n",
       "    <tr>\n",
       "      <th>1</th>\n",
       "      <td>Ростелеком</td>\n",
       "      <td>491</td>\n",
       "    </tr>\n",
       "    <tr>\n",
       "      <th>2</th>\n",
       "      <td>Тинькофф</td>\n",
       "      <td>444</td>\n",
       "    </tr>\n",
       "    <tr>\n",
       "      <th>3</th>\n",
       "      <td>СБЕР</td>\n",
       "      <td>428</td>\n",
       "    </tr>\n",
       "    <tr>\n",
       "      <th>4</th>\n",
       "      <td>Газпром нефть</td>\n",
       "      <td>331</td>\n",
       "    </tr>\n",
       "  </tbody>\n",
       "</table>\n",
       "</div>"
      ]
     },
     "execution_count": 578,
     "metadata": {},
     "output_type": "execute_result"
    }
   ],
   "execution_count": 578
  },
  {
   "cell_type": "markdown",
   "id": "68377cfc-b378-43dc-ab7d-1195abf2c515",
   "metadata": {
    "id": "68377cfc-b378-43dc-ab7d-1195abf2c515"
   },
   "source": [
    "2. Напишите запрос, который для каждого региона выведет количество работодателей и вакансий в нём.\n",
    "Среди регионов, в которых нет вакансий, найдите тот, в котором наибольшее количество работодателей.\n"
   ]
  },
  {
   "cell_type": "code",
   "id": "dd7df27a-e3e8-412e-a21a-5d389b71e891",
   "metadata": {
    "id": "dd7df27a-e3e8-412e-a21a-5d389b71e891",
    "ExecuteTime": {
     "end_time": "2024-08-04T17:12:52.915523Z",
     "start_time": "2024-08-04T17:12:52.911183Z"
    }
   },
   "source": [
    "query_5_2 = f'''\n",
    "SELECT \n",
    "\ta.\"name\"  as \"регион\", \t\n",
    "\tcount(e.id) as \"кол. работодателей без вакансий\"\n",
    "FROM employers e \n",
    "\tleft join vacancies v on e.area =v.area_id\n",
    "\tjoin areas a on a.id =e.area  \n",
    "group by \"регион\"\n",
    "having count(v.id) = 0\n",
    "order by count(e.id) desc \n",
    "limit 5\n",
    "'''"
   ],
   "outputs": [],
   "execution_count": 579
  },
  {
   "cell_type": "code",
   "source": [
    "df = pd.read_sql_query(query_5_2, connection)\n",
    "df"
   ],
   "metadata": {
    "id": "x1ikWbydrbf6",
    "ExecuteTime": {
     "end_time": "2024-08-04T17:13:08.636155Z",
     "start_time": "2024-08-04T17:12:53.035893Z"
    }
   },
   "id": "x1ikWbydrbf6",
   "outputs": [
    {
     "name": "stderr",
     "output_type": "stream",
     "text": [
      "C:\\Users\\NCHirkov\\AppData\\Local\\Temp\\ipykernel_2032\\714344905.py:1: UserWarning:\n",
      "\n",
      "pandas only supports SQLAlchemy connectable (engine/connection) or database string URI or sqlite3 DBAPI2 connection. Other DBAPI2 objects are not tested. Please consider using SQLAlchemy.\n",
      "\n"
     ]
    },
    {
     "data": {
      "text/plain": [
       "               регион  кол. работодателей без вакансий\n",
       "0              Россия                              410\n",
       "1           Казахстан                              207\n",
       "2  Московская область                               75\n",
       "3  Краснодарский край                               19\n",
       "4            Беларусь                               18"
      ],
      "text/html": [
       "<div>\n",
       "<style scoped>\n",
       "    .dataframe tbody tr th:only-of-type {\n",
       "        vertical-align: middle;\n",
       "    }\n",
       "\n",
       "    .dataframe tbody tr th {\n",
       "        vertical-align: top;\n",
       "    }\n",
       "\n",
       "    .dataframe thead th {\n",
       "        text-align: right;\n",
       "    }\n",
       "</style>\n",
       "<table border=\"1\" class=\"dataframe\">\n",
       "  <thead>\n",
       "    <tr style=\"text-align: right;\">\n",
       "      <th></th>\n",
       "      <th>регион</th>\n",
       "      <th>кол. работодателей без вакансий</th>\n",
       "    </tr>\n",
       "  </thead>\n",
       "  <tbody>\n",
       "    <tr>\n",
       "      <th>0</th>\n",
       "      <td>Россия</td>\n",
       "      <td>410</td>\n",
       "    </tr>\n",
       "    <tr>\n",
       "      <th>1</th>\n",
       "      <td>Казахстан</td>\n",
       "      <td>207</td>\n",
       "    </tr>\n",
       "    <tr>\n",
       "      <th>2</th>\n",
       "      <td>Московская область</td>\n",
       "      <td>75</td>\n",
       "    </tr>\n",
       "    <tr>\n",
       "      <th>3</th>\n",
       "      <td>Краснодарский край</td>\n",
       "      <td>19</td>\n",
       "    </tr>\n",
       "    <tr>\n",
       "      <th>4</th>\n",
       "      <td>Беларусь</td>\n",
       "      <td>18</td>\n",
       "    </tr>\n",
       "  </tbody>\n",
       "</table>\n",
       "</div>"
      ]
     },
     "execution_count": 580,
     "metadata": {},
     "output_type": "execute_result"
    }
   ],
   "execution_count": 580
  },
  {
   "cell_type": "markdown",
   "id": "f2fe0acb-ab1a-4e15-9326-2560e22d73c1",
   "metadata": {
    "id": "f2fe0acb-ab1a-4e15-9326-2560e22d73c1"
   },
   "source": [
    "3. Для каждого работодателя посчитайте количество регионов, в которых он публикует свои вакансии. Отсортируйте результат по убыванию количества.\n"
   ]
  },
  {
   "cell_type": "code",
   "id": "6271f8ad-bd2e-4196-ae4a-5b39c4c1010e",
   "metadata": {
    "id": "6271f8ad-bd2e-4196-ae4a-5b39c4c1010e",
    "ExecuteTime": {
     "end_time": "2024-08-04T17:13:08.642799Z",
     "start_time": "2024-08-04T17:13:08.638570Z"
    }
   },
   "source": [
    "query_5_3 = f'''\n",
    "select \n",
    "\te.\"name\" as \"работодатель\", \t\n",
    "\tcount(distinct v.area_id) as \"количество регионов\"\n",
    "from  employers e \n",
    "join vacancies v on e.id = v.employer_id \n",
    "group by e.id \n",
    "order by \"количество регионов\" desc \n",
    "limit 5\n",
    "'''"
   ],
   "outputs": [],
   "execution_count": 581
  },
  {
   "cell_type": "code",
   "source": [
    "df = pd.read_sql_query(query_5_3, connection)\n",
    "df"
   ],
   "metadata": {
    "id": "1EIvX3HasH4F",
    "ExecuteTime": {
     "end_time": "2024-08-04T17:13:08.757953Z",
     "start_time": "2024-08-04T17:13:08.644376Z"
    }
   },
   "id": "1EIvX3HasH4F",
   "outputs": [
    {
     "name": "stderr",
     "output_type": "stream",
     "text": [
      "C:\\Users\\NCHirkov\\AppData\\Local\\Temp\\ipykernel_2032\\2060984172.py:1: UserWarning:\n",
      "\n",
      "pandas only supports SQLAlchemy connectable (engine/connection) or database string URI or sqlite3 DBAPI2 connection. Other DBAPI2 objects are not tested. Please consider using SQLAlchemy.\n",
      "\n"
     ]
    },
    {
     "data": {
      "text/plain": [
       "             работодатель  количество регионов\n",
       "0                  Яндекс                  181\n",
       "1              Ростелеком                  152\n",
       "2              Спецремонт                  116\n",
       "3  Поляков Денис Иванович                   88\n",
       "4               ООО ЕФИН                    71"
      ],
      "text/html": [
       "<div>\n",
       "<style scoped>\n",
       "    .dataframe tbody tr th:only-of-type {\n",
       "        vertical-align: middle;\n",
       "    }\n",
       "\n",
       "    .dataframe tbody tr th {\n",
       "        vertical-align: top;\n",
       "    }\n",
       "\n",
       "    .dataframe thead th {\n",
       "        text-align: right;\n",
       "    }\n",
       "</style>\n",
       "<table border=\"1\" class=\"dataframe\">\n",
       "  <thead>\n",
       "    <tr style=\"text-align: right;\">\n",
       "      <th></th>\n",
       "      <th>работодатель</th>\n",
       "      <th>количество регионов</th>\n",
       "    </tr>\n",
       "  </thead>\n",
       "  <tbody>\n",
       "    <tr>\n",
       "      <th>0</th>\n",
       "      <td>Яндекс</td>\n",
       "      <td>181</td>\n",
       "    </tr>\n",
       "    <tr>\n",
       "      <th>1</th>\n",
       "      <td>Ростелеком</td>\n",
       "      <td>152</td>\n",
       "    </tr>\n",
       "    <tr>\n",
       "      <th>2</th>\n",
       "      <td>Спецремонт</td>\n",
       "      <td>116</td>\n",
       "    </tr>\n",
       "    <tr>\n",
       "      <th>3</th>\n",
       "      <td>Поляков Денис Иванович</td>\n",
       "      <td>88</td>\n",
       "    </tr>\n",
       "    <tr>\n",
       "      <th>4</th>\n",
       "      <td>ООО ЕФИН</td>\n",
       "      <td>71</td>\n",
       "    </tr>\n",
       "  </tbody>\n",
       "</table>\n",
       "</div>"
      ]
     },
     "execution_count": 582,
     "metadata": {},
     "output_type": "execute_result"
    }
   ],
   "execution_count": 582
  },
  {
   "cell_type": "markdown",
   "id": "eab2206d-d95b-468b-8e5f-34381abf0ce7",
   "metadata": {
    "id": "eab2206d-d95b-468b-8e5f-34381abf0ce7"
   },
   "source": [
    "4. Напишите запрос для подсчёта количества работодателей, у которых не указана сфера деятельности. "
   ]
  },
  {
   "cell_type": "code",
   "id": "80defb23-bfb1-4a18-8be6-bf36aa7165d5",
   "metadata": {
    "id": "80defb23-bfb1-4a18-8be6-bf36aa7165d5",
    "ExecuteTime": {
     "end_time": "2024-08-04T17:13:08.764717Z",
     "start_time": "2024-08-04T17:13:08.760160Z"
    }
   },
   "source": [
    "# текст запроса\n",
    "query_5_4 = f'''\n",
    "select \n",
    "\tcount(e.id) \"кол. работодателей без сферы деятельности\"\n",
    "from employers e \n",
    "left join employers_industries ei on e.id = ei.employer_id \n",
    "where ei.employer_id is null\n",
    "'''"
   ],
   "outputs": [],
   "execution_count": 583
  },
  {
   "cell_type": "code",
   "source": [
    "df = pd.read_sql_query(query_5_4, connection)\n",
    "df"
   ],
   "metadata": {
    "id": "Dp_yCx6ysQSu",
    "ExecuteTime": {
     "end_time": "2024-08-04T17:13:08.805349Z",
     "start_time": "2024-08-04T17:13:08.764717Z"
    }
   },
   "id": "Dp_yCx6ysQSu",
   "outputs": [
    {
     "name": "stderr",
     "output_type": "stream",
     "text": [
      "C:\\Users\\NCHirkov\\AppData\\Local\\Temp\\ipykernel_2032\\3677090595.py:1: UserWarning:\n",
      "\n",
      "pandas only supports SQLAlchemy connectable (engine/connection) or database string URI or sqlite3 DBAPI2 connection. Other DBAPI2 objects are not tested. Please consider using SQLAlchemy.\n",
      "\n"
     ]
    },
    {
     "data": {
      "text/plain": [
       "   кол. работодателей без сферы деяте\n",
       "0                                8419"
      ],
      "text/html": [
       "<div>\n",
       "<style scoped>\n",
       "    .dataframe tbody tr th:only-of-type {\n",
       "        vertical-align: middle;\n",
       "    }\n",
       "\n",
       "    .dataframe tbody tr th {\n",
       "        vertical-align: top;\n",
       "    }\n",
       "\n",
       "    .dataframe thead th {\n",
       "        text-align: right;\n",
       "    }\n",
       "</style>\n",
       "<table border=\"1\" class=\"dataframe\">\n",
       "  <thead>\n",
       "    <tr style=\"text-align: right;\">\n",
       "      <th></th>\n",
       "      <th>кол. работодателей без сферы деяте</th>\n",
       "    </tr>\n",
       "  </thead>\n",
       "  <tbody>\n",
       "    <tr>\n",
       "      <th>0</th>\n",
       "      <td>8419</td>\n",
       "    </tr>\n",
       "  </tbody>\n",
       "</table>\n",
       "</div>"
      ]
     },
     "execution_count": 584,
     "metadata": {},
     "output_type": "execute_result"
    }
   ],
   "execution_count": 584
  },
  {
   "cell_type": "markdown",
   "id": "0112af31-f6b0-4e3b-82ab-71296e752e5e",
   "metadata": {
    "id": "0112af31-f6b0-4e3b-82ab-71296e752e5e"
   },
   "source": [
    "5. Напишите запрос, чтобы узнать название компании, находящейся на третьем месте в алфавитном списке (по названию) компаний, у которых указано четыре сферы деятельности. "
   ]
  },
  {
   "cell_type": "code",
   "id": "973b0cfc-a972-470a-8b4a-68744ef220c4",
   "metadata": {
    "id": "973b0cfc-a972-470a-8b4a-68744ef220c4",
    "ExecuteTime": {
     "end_time": "2024-08-04T17:13:08.810824Z",
     "start_time": "2024-08-04T17:13:08.805482Z"
    }
   },
   "source": [
    "query_5_5 = f'''\n",
    "select \n",
    "\te.\"name\" as \"название компании\",\t\n",
    "\tcount(ei.industry_id) as \"количество сфер деятельности\"\n",
    "from employers e \n",
    "join employers_industries ei on e.id = ei.employer_id \n",
    "group by e.id \n",
    "having count(ei.industry_id) = 4\n",
    "order by \"название компании\"\n",
    "limit 3\n",
    "'''"
   ],
   "outputs": [],
   "execution_count": 585
  },
  {
   "cell_type": "code",
   "source": [
    "df = pd.read_sql_query(query_5_5, connection)\n",
    "df"
   ],
   "metadata": {
    "id": "xsPtpp8EsaED",
    "ExecuteTime": {
     "end_time": "2024-08-04T17:13:08.870513Z",
     "start_time": "2024-08-04T17:13:08.812270Z"
    }
   },
   "id": "xsPtpp8EsaED",
   "outputs": [
    {
     "name": "stderr",
     "output_type": "stream",
     "text": [
      "C:\\Users\\NCHirkov\\AppData\\Local\\Temp\\ipykernel_2032\\2154720907.py:1: UserWarning:\n",
      "\n",
      "pandas only supports SQLAlchemy connectable (engine/connection) or database string URI or sqlite3 DBAPI2 connection. Other DBAPI2 objects are not tested. Please consider using SQLAlchemy.\n",
      "\n"
     ]
    },
    {
     "data": {
      "text/plain": [
       "  название компании  количество сфер деятельности\n",
       "0      101 Интернет                             4\n",
       "1          21vek.by                             4\n",
       "2              2ГИС                             4"
      ],
      "text/html": [
       "<div>\n",
       "<style scoped>\n",
       "    .dataframe tbody tr th:only-of-type {\n",
       "        vertical-align: middle;\n",
       "    }\n",
       "\n",
       "    .dataframe tbody tr th {\n",
       "        vertical-align: top;\n",
       "    }\n",
       "\n",
       "    .dataframe thead th {\n",
       "        text-align: right;\n",
       "    }\n",
       "</style>\n",
       "<table border=\"1\" class=\"dataframe\">\n",
       "  <thead>\n",
       "    <tr style=\"text-align: right;\">\n",
       "      <th></th>\n",
       "      <th>название компании</th>\n",
       "      <th>количество сфер деятельности</th>\n",
       "    </tr>\n",
       "  </thead>\n",
       "  <tbody>\n",
       "    <tr>\n",
       "      <th>0</th>\n",
       "      <td>101 Интернет</td>\n",
       "      <td>4</td>\n",
       "    </tr>\n",
       "    <tr>\n",
       "      <th>1</th>\n",
       "      <td>21vek.by</td>\n",
       "      <td>4</td>\n",
       "    </tr>\n",
       "    <tr>\n",
       "      <th>2</th>\n",
       "      <td>2ГИС</td>\n",
       "      <td>4</td>\n",
       "    </tr>\n",
       "  </tbody>\n",
       "</table>\n",
       "</div>"
      ]
     },
     "execution_count": 586,
     "metadata": {},
     "output_type": "execute_result"
    }
   ],
   "execution_count": 586
  },
  {
   "cell_type": "markdown",
   "id": "3bfcfdaf-755d-4d2b-8ed8-326201dc07ab",
   "metadata": {
    "id": "3bfcfdaf-755d-4d2b-8ed8-326201dc07ab"
   },
   "source": [
    "6. С помощью запроса выясните, у какого количества работодателей в качестве сферы деятельности указана Разработка программного обеспечения.\n"
   ]
  },
  {
   "cell_type": "code",
   "id": "ad3f270f-2991-47eb-929b-e8f88a55b0d1",
   "metadata": {
    "id": "ad3f270f-2991-47eb-929b-e8f88a55b0d1",
    "ExecuteTime": {
     "end_time": "2024-08-04T17:13:08.876606Z",
     "start_time": "2024-08-04T17:13:08.871514Z"
    }
   },
   "source": [
    "query_5_6 = f'''\n",
    "select \n",
    "\tcount(e.id) as \"сфера деятельности - разработка ПО\"\n",
    "from employers_industries ei  \n",
    "join employers e  on e.id = ei.employer_id \n",
    "join industries i on ei.industry_id = i.id \n",
    "group by i.\"name\" \n",
    "having i.\"name\" = 'Разработка программного обеспечения'\n",
    "'''"
   ],
   "outputs": [],
   "execution_count": 587
  },
  {
   "cell_type": "code",
   "source": [
    "df = pd.read_sql_query(query_5_6, connection)\n",
    "df"
   ],
   "metadata": {
    "id": "H72qxWM0shPR",
    "ExecuteTime": {
     "end_time": "2024-08-04T17:13:08.934742Z",
     "start_time": "2024-08-04T17:13:08.878359Z"
    }
   },
   "id": "H72qxWM0shPR",
   "outputs": [
    {
     "name": "stderr",
     "output_type": "stream",
     "text": [
      "C:\\Users\\NCHirkov\\AppData\\Local\\Temp\\ipykernel_2032\\2982424571.py:1: UserWarning:\n",
      "\n",
      "pandas only supports SQLAlchemy connectable (engine/connection) or database string URI or sqlite3 DBAPI2 connection. Other DBAPI2 objects are not tested. Please consider using SQLAlchemy.\n",
      "\n"
     ]
    },
    {
     "data": {
      "text/plain": [
       "   сфера деятельности - разработка ПО\n",
       "0                                3553"
      ],
      "text/html": [
       "<div>\n",
       "<style scoped>\n",
       "    .dataframe tbody tr th:only-of-type {\n",
       "        vertical-align: middle;\n",
       "    }\n",
       "\n",
       "    .dataframe tbody tr th {\n",
       "        vertical-align: top;\n",
       "    }\n",
       "\n",
       "    .dataframe thead th {\n",
       "        text-align: right;\n",
       "    }\n",
       "</style>\n",
       "<table border=\"1\" class=\"dataframe\">\n",
       "  <thead>\n",
       "    <tr style=\"text-align: right;\">\n",
       "      <th></th>\n",
       "      <th>сфера деятельности - разработка ПО</th>\n",
       "    </tr>\n",
       "  </thead>\n",
       "  <tbody>\n",
       "    <tr>\n",
       "      <th>0</th>\n",
       "      <td>3553</td>\n",
       "    </tr>\n",
       "  </tbody>\n",
       "</table>\n",
       "</div>"
      ]
     },
     "execution_count": 588,
     "metadata": {},
     "output_type": "execute_result"
    }
   ],
   "execution_count": 588
  },
  {
   "cell_type": "markdown",
   "id": "7b02bb86-0546-40fb-94a4-242f050a5c57",
   "metadata": {
    "id": "7b02bb86-0546-40fb-94a4-242f050a5c57"
   },
   "source": [
    "7. Для компании «Яндекс» выведите список регионов-миллионников, в которых представлены вакансии компании, вместе с количеством вакансий в этих регионах. Также добавьте строку Total с общим количеством вакансий компании. Результат отсортируйте по возрастанию количества.\n",
    "\n",
    "Список городов-милионников надо взять [отсюда](https://ru.wikipedia.org/wiki/%D0%93%D0%BE%D1%80%D0%BE%D0%B4%D0%B0-%D0%BC%D0%B8%D0%BB%D0%BB%D0%B8%D0%BE%D0%BD%D0%B5%D1%80%D1%8B_%D0%A0%D0%BE%D1%81%D1%81%D0%B8%D0%B8). \n",
    "\n",
    "Если возникнут трудности с этим задание посмотрите материалы модуля  PYTHON-17. Как получать данные из веб-источников и API. "
   ]
  },
  {
   "cell_type": "code",
   "source": [
    "# код для получения списка городов-милионников\n",
    "url = 'https://ru.wikipedia.org/wiki/Города-миллионеры_России' # Определяем адрес страницы\n",
    "response = requests.get(url, verify=False)\n",
    "page = BeautifulSoup(response.text, 'html.parser') # Создаём объект BeautifulSoup\n",
    "table = page.find('table',class_='standard sortable')\n",
    "links = table.find_all('a')\n",
    "# Извлечем данные из таблицы\n",
    "table_data = []\n",
    "for row in table.find_all('tr'):\n",
    "    columns = row.find_all('td')[1:2] # берем только колонку, где указан город\n",
    "    if columns:\n",
    "        table_data.append(columns[0].text.strip()) # добавляем город в список\n",
    "cities = \"','\".join(table_data)\n",
    "cities = \"'\" + cities + \"'\"\n",
    "cities"
   ],
   "metadata": {
    "id": "ZdfrL6gIs1Pn",
    "ExecuteTime": {
     "end_time": "2024-08-04T17:13:09.868881Z",
     "start_time": "2024-08-04T17:13:08.937607Z"
    }
   },
   "id": "ZdfrL6gIs1Pn",
   "outputs": [
    {
     "name": "stderr",
     "output_type": "stream",
     "text": [
      "C:\\Users\\NCHirkov\\AppData\\Local\\Programs\\Python\\Python312\\Lib\\site-packages\\urllib3\\connectionpool.py:1045: InsecureRequestWarning:\n",
      "\n",
      "Unverified HTTPS request is being made to host 'ru.wikipedia.org'. Adding certificate verification is strongly advised. See: https://urllib3.readthedocs.io/en/1.26.x/advanced-usage.html#ssl-warnings\n",
      "\n"
     ]
    },
    {
     "data": {
      "text/plain": [
       "\"'Москва','Санкт-Петербург','Новосибирск','Екатеринбург','Казань','Красноярск','Нижний Новгород','Челябинск','Уфа','Самара','Ростов-на-Дону','Краснодар','Омск','Воронеж','Пермь','Волгоград'\""
      ]
     },
     "execution_count": 589,
     "metadata": {},
     "output_type": "execute_result"
    }
   ],
   "execution_count": 589
  },
  {
   "cell_type": "code",
   "id": "5a0e32a4-e68a-4365-8a39-2fe24c542c36",
   "metadata": {
    "id": "5a0e32a4-e68a-4365-8a39-2fe24c542c36",
    "ExecuteTime": {
     "end_time": "2024-08-04T17:13:09.880116Z",
     "start_time": "2024-08-04T17:13:09.875258Z"
    }
   },
   "source": [
    "# текст запроса\n",
    "query_5_7 = f'''\n",
    "select\n",
    "\ta.\"name\" as \"регион\",\n",
    "\tcount(v.id) as \"количество вакансий\"\n",
    "from vacancies v\n",
    "join employers e on v.employer_id = e.id\n",
    "join areas a on a.id = v.area_id \n",
    "where e.\"name\" = 'Яндекс' and a.\"name\" in ({cities})\n",
    "group by e.\"name\", \"регион\"\n",
    "\n",
    "union \n",
    "\n",
    "select\n",
    "\t'total',\n",
    "\tcount(v.id)\n",
    "from vacancies v\n",
    "join employers e on v.employer_id = e.id\n",
    "join areas a on a.id = v.area_id \n",
    "where e.\"name\" = 'Яндекс' and a.\"name\" in ({cities})\n",
    "order by \"количество вакансий\"\n",
    "'''\n"
   ],
   "outputs": [],
   "execution_count": 590
  },
  {
   "cell_type": "code",
   "source": [
    "df = pd.read_sql_query(query_5_7, connection)\n",
    "df"
   ],
   "metadata": {
    "id": "ttPhiO1rsvPq",
    "ExecuteTime": {
     "end_time": "2024-08-04T17:13:10.023518Z",
     "start_time": "2024-08-04T17:13:09.882059Z"
    }
   },
   "id": "ttPhiO1rsvPq",
   "outputs": [
    {
     "name": "stderr",
     "output_type": "stream",
     "text": [
      "C:\\Users\\NCHirkov\\AppData\\Local\\Temp\\ipykernel_2032\\1825505273.py:1: UserWarning:\n",
      "\n",
      "pandas only supports SQLAlchemy connectable (engine/connection) or database string URI or sqlite3 DBAPI2 connection. Other DBAPI2 objects are not tested. Please consider using SQLAlchemy.\n",
      "\n"
     ]
    },
    {
     "data": {
      "text/plain": [
       "             регион  количество вакансий\n",
       "0              Омск                   21\n",
       "1         Челябинск                   22\n",
       "2        Красноярск                   23\n",
       "3         Волгоград                   24\n",
       "4             Пермь                   25\n",
       "5            Казань                   25\n",
       "6    Ростов-на-Дону                   25\n",
       "7               Уфа                   26\n",
       "8            Самара                   26\n",
       "9         Краснодар                   30\n",
       "10          Воронеж                   32\n",
       "11      Новосибирск                   35\n",
       "12  Нижний Новгород                   36\n",
       "13     Екатеринбург                   39\n",
       "14  Санкт-Петербург                   42\n",
       "15           Москва                   54\n",
       "16            total                  485"
      ],
      "text/html": [
       "<div>\n",
       "<style scoped>\n",
       "    .dataframe tbody tr th:only-of-type {\n",
       "        vertical-align: middle;\n",
       "    }\n",
       "\n",
       "    .dataframe tbody tr th {\n",
       "        vertical-align: top;\n",
       "    }\n",
       "\n",
       "    .dataframe thead th {\n",
       "        text-align: right;\n",
       "    }\n",
       "</style>\n",
       "<table border=\"1\" class=\"dataframe\">\n",
       "  <thead>\n",
       "    <tr style=\"text-align: right;\">\n",
       "      <th></th>\n",
       "      <th>регион</th>\n",
       "      <th>количество вакансий</th>\n",
       "    </tr>\n",
       "  </thead>\n",
       "  <tbody>\n",
       "    <tr>\n",
       "      <th>0</th>\n",
       "      <td>Омск</td>\n",
       "      <td>21</td>\n",
       "    </tr>\n",
       "    <tr>\n",
       "      <th>1</th>\n",
       "      <td>Челябинск</td>\n",
       "      <td>22</td>\n",
       "    </tr>\n",
       "    <tr>\n",
       "      <th>2</th>\n",
       "      <td>Красноярск</td>\n",
       "      <td>23</td>\n",
       "    </tr>\n",
       "    <tr>\n",
       "      <th>3</th>\n",
       "      <td>Волгоград</td>\n",
       "      <td>24</td>\n",
       "    </tr>\n",
       "    <tr>\n",
       "      <th>4</th>\n",
       "      <td>Пермь</td>\n",
       "      <td>25</td>\n",
       "    </tr>\n",
       "    <tr>\n",
       "      <th>5</th>\n",
       "      <td>Казань</td>\n",
       "      <td>25</td>\n",
       "    </tr>\n",
       "    <tr>\n",
       "      <th>6</th>\n",
       "      <td>Ростов-на-Дону</td>\n",
       "      <td>25</td>\n",
       "    </tr>\n",
       "    <tr>\n",
       "      <th>7</th>\n",
       "      <td>Уфа</td>\n",
       "      <td>26</td>\n",
       "    </tr>\n",
       "    <tr>\n",
       "      <th>8</th>\n",
       "      <td>Самара</td>\n",
       "      <td>26</td>\n",
       "    </tr>\n",
       "    <tr>\n",
       "      <th>9</th>\n",
       "      <td>Краснодар</td>\n",
       "      <td>30</td>\n",
       "    </tr>\n",
       "    <tr>\n",
       "      <th>10</th>\n",
       "      <td>Воронеж</td>\n",
       "      <td>32</td>\n",
       "    </tr>\n",
       "    <tr>\n",
       "      <th>11</th>\n",
       "      <td>Новосибирск</td>\n",
       "      <td>35</td>\n",
       "    </tr>\n",
       "    <tr>\n",
       "      <th>12</th>\n",
       "      <td>Нижний Новгород</td>\n",
       "      <td>36</td>\n",
       "    </tr>\n",
       "    <tr>\n",
       "      <th>13</th>\n",
       "      <td>Екатеринбург</td>\n",
       "      <td>39</td>\n",
       "    </tr>\n",
       "    <tr>\n",
       "      <th>14</th>\n",
       "      <td>Санкт-Петербург</td>\n",
       "      <td>42</td>\n",
       "    </tr>\n",
       "    <tr>\n",
       "      <th>15</th>\n",
       "      <td>Москва</td>\n",
       "      <td>54</td>\n",
       "    </tr>\n",
       "    <tr>\n",
       "      <th>16</th>\n",
       "      <td>total</td>\n",
       "      <td>485</td>\n",
       "    </tr>\n",
       "  </tbody>\n",
       "</table>\n",
       "</div>"
      ]
     },
     "execution_count": 591,
     "metadata": {},
     "output_type": "execute_result"
    }
   ],
   "execution_count": 591
  },
  {
   "metadata": {},
   "cell_type": "markdown",
   "source": [
    "**ВЫВОДЫ:**\n",
    "1) Возглавляет список работодателей, у которых больше всего опубликовано вакансий Яндекс. Опубликовано 1933 ваканcии. На втором и третьем месте это Ростелеком и Тинькофф\n",
    "2) Россия, скорее всего из-за общего количества работодателей, возглавляет список регионов по количеству работодателей у которых нет вакансий (410). На втором месте Казахстан (207), а на третьем Московская область (75). Я бы обратил внимание на Московскую область и Краснодарский край, который на четвертом месте, т.к. по соотношению масштабов, можно сделать вывод, что в этих регионов хуже всего с поиском работы.\n",
    "3) По количеству регионов, в которых опубликованы вакансии, на первом месте все тот-же Яндекс (181), на втором Ростелеком (152), а на третьем Спецремонт (116). Тут бы я сделал вывод, что такой охват регионов может быть связан с возможностью удаленной работы или со спецификой деятельности, как в Спецремонт.\n",
    "4) Только у 15% (3553) из 23501 сфера деятельности указана \"Разработка программного обеспечения\" \n"
   ],
   "id": "ced9d3e82c05450b"
  },
  {
   "cell_type": "markdown",
   "id": "04966e40-3bc3-4dc8-9ba2-e80580ce3abc",
   "metadata": {
    "id": "04966e40-3bc3-4dc8-9ba2-e80580ce3abc"
   },
   "source": [
    "***"
   ]
  },
  {
   "cell_type": "markdown",
   "id": "b1ef156a-efcb-49ce-bb23-90763e7f35b2",
   "metadata": {
    "tags": [],
    "id": "b1ef156a-efcb-49ce-bb23-90763e7f35b2"
   },
   "source": [
    "# Юнит 6. Предметный анализ"
   ]
  },
  {
   "cell_type": "markdown",
   "id": "b9cd50a0-992d-4988-8463-2b2b1c4629b4",
   "metadata": {
    "id": "b9cd50a0-992d-4988-8463-2b2b1c4629b4"
   },
   "source": [
    "1. Сколько вакансий имеет отношение к данным?\n",
    "\n",
    "Считаем, что вакансия имеет отношение к данным, если в её названии содержатся слова 'data' или 'данн'.\n",
    "\n",
    "*Подсказка: Обратите внимание, что названия вакансий могут быть написаны в любом регистре.* \n"
   ]
  },
  {
   "cell_type": "code",
   "id": "54ab0e50-c0f1-47cc-a54b-bc5c8bc363f9",
   "metadata": {
    "id": "54ab0e50-c0f1-47cc-a54b-bc5c8bc363f9",
    "ExecuteTime": {
     "end_time": "2024-08-04T17:13:10.028812Z",
     "start_time": "2024-08-04T17:13:10.024923Z"
    }
   },
   "source": [
    "query_6_1 = f'''\n",
    "select\n",
    "\tcount(v.id)\t\"кол. вакансий имеет отн. к данным\"\n",
    "from vacancies v\n",
    "where lower(v.\"name\") like '%data%' or lower(v.\"name\") like '%данн%'\n",
    "'''"
   ],
   "outputs": [],
   "execution_count": 592
  },
  {
   "cell_type": "code",
   "source": [
    "df = pd.read_sql_query(query_6_1, connection)\n",
    "df"
   ],
   "metadata": {
    "id": "9F1meAqsuUjd",
    "ExecuteTime": {
     "end_time": "2024-08-04T17:13:10.169373Z",
     "start_time": "2024-08-04T17:13:10.030414Z"
    }
   },
   "id": "9F1meAqsuUjd",
   "outputs": [
    {
     "name": "stderr",
     "output_type": "stream",
     "text": [
      "C:\\Users\\NCHirkov\\AppData\\Local\\Temp\\ipykernel_2032\\950281682.py:1: UserWarning:\n",
      "\n",
      "pandas only supports SQLAlchemy connectable (engine/connection) or database string URI or sqlite3 DBAPI2 connection. Other DBAPI2 objects are not tested. Please consider using SQLAlchemy.\n",
      "\n"
     ]
    },
    {
     "data": {
      "text/plain": [
       "   кол. вакансий имеет отн. к данным\n",
       "0                               1771"
      ],
      "text/html": [
       "<div>\n",
       "<style scoped>\n",
       "    .dataframe tbody tr th:only-of-type {\n",
       "        vertical-align: middle;\n",
       "    }\n",
       "\n",
       "    .dataframe tbody tr th {\n",
       "        vertical-align: top;\n",
       "    }\n",
       "\n",
       "    .dataframe thead th {\n",
       "        text-align: right;\n",
       "    }\n",
       "</style>\n",
       "<table border=\"1\" class=\"dataframe\">\n",
       "  <thead>\n",
       "    <tr style=\"text-align: right;\">\n",
       "      <th></th>\n",
       "      <th>кол. вакансий имеет отн. к данным</th>\n",
       "    </tr>\n",
       "  </thead>\n",
       "  <tbody>\n",
       "    <tr>\n",
       "      <th>0</th>\n",
       "      <td>1771</td>\n",
       "    </tr>\n",
       "  </tbody>\n",
       "</table>\n",
       "</div>"
      ]
     },
     "execution_count": 593,
     "metadata": {},
     "output_type": "execute_result"
    }
   ],
   "execution_count": 593
  },
  {
   "cell_type": "markdown",
   "id": "4dea20cb-a36b-474a-a0b9-e08e8e3857a5",
   "metadata": {
    "id": "4dea20cb-a36b-474a-a0b9-e08e8e3857a5"
   },
   "source": [
    "2. Сколько есть подходящих вакансий для начинающего дата-сайентиста? \n",
    "Будем считать вакансиями для дата-сайентистов такие, в названии которых есть хотя бы одно из следующих сочетаний:\n",
    "* 'data scientist'\n",
    "* 'data science'\n",
    "* 'исследователь данных'\n",
    "* 'ML' (здесь не нужно брать вакансии по HTML)\n",
    "* 'machine learning'\n",
    "* 'машинн%обучен%'\n",
    "\n",
    "** В следующих заданиях мы продолжим работать с вакансиями по этому условию.*\n",
    "\n",
    "Считаем вакансиями для специалистов уровня Junior следующие:\n",
    "* в названии есть слово 'junior' *или*\n",
    "* требуемый опыт — Нет опыта *или*\n",
    "* тип трудоустройства — Стажировка.\n",
    " "
   ]
  },
  {
   "cell_type": "code",
   "id": "9c61b3c0-bb66-46c9-ae1e-81d3f5752b4a",
   "metadata": {
    "id": "9c61b3c0-bb66-46c9-ae1e-81d3f5752b4a",
    "ExecuteTime": {
     "end_time": "2024-08-04T17:13:10.175008Z",
     "start_time": "2024-08-04T17:13:10.169592Z"
    }
   },
   "source": [
    "vacancies=['%data scientist%', '%data science%', '%исследователь данных%', '%machine learning%', '%машинн%обучен%']\n",
    "vacancies_str = \"'\" + \"', '\".join(vacancies) + \"'\"\n",
    "\n",
    "query_6_2 = f'''\n",
    "select \n",
    "\tcount(v.id) \"кол. вакансий DS\"\n",
    "from vacancies v \n",
    "where (v.\"name\"  ilike any (array[{vacancies_str}]) \n",
    "\tor (v.\"name\" not ilike '%HTML%' and v.\"name\" ilike '%ML%'))\n",
    "\tand (v.\"name\" ilike '%junior%' or v.experience = 'Нет опыта' or v.employment = 'Стажировка')\n",
    "'''"
   ],
   "outputs": [],
   "execution_count": 594
  },
  {
   "cell_type": "code",
   "source": [
    "df = pd.read_sql_query(query_6_2, connection)\n",
    "df"
   ],
   "metadata": {
    "id": "ZNM-LLYuu1dj",
    "ExecuteTime": {
     "end_time": "2024-08-04T17:13:10.373856Z",
     "start_time": "2024-08-04T17:13:10.176696Z"
    }
   },
   "id": "ZNM-LLYuu1dj",
   "outputs": [
    {
     "name": "stderr",
     "output_type": "stream",
     "text": [
      "C:\\Users\\NCHirkov\\AppData\\Local\\Temp\\ipykernel_2032\\2008915662.py:1: UserWarning:\n",
      "\n",
      "pandas only supports SQLAlchemy connectable (engine/connection) or database string URI or sqlite3 DBAPI2 connection. Other DBAPI2 objects are not tested. Please consider using SQLAlchemy.\n",
      "\n"
     ]
    },
    {
     "data": {
      "text/plain": [
       "   кол. вакансий DS\n",
       "0                51"
      ],
      "text/html": [
       "<div>\n",
       "<style scoped>\n",
       "    .dataframe tbody tr th:only-of-type {\n",
       "        vertical-align: middle;\n",
       "    }\n",
       "\n",
       "    .dataframe tbody tr th {\n",
       "        vertical-align: top;\n",
       "    }\n",
       "\n",
       "    .dataframe thead th {\n",
       "        text-align: right;\n",
       "    }\n",
       "</style>\n",
       "<table border=\"1\" class=\"dataframe\">\n",
       "  <thead>\n",
       "    <tr style=\"text-align: right;\">\n",
       "      <th></th>\n",
       "      <th>кол. вакансий DS</th>\n",
       "    </tr>\n",
       "  </thead>\n",
       "  <tbody>\n",
       "    <tr>\n",
       "      <th>0</th>\n",
       "      <td>51</td>\n",
       "    </tr>\n",
       "  </tbody>\n",
       "</table>\n",
       "</div>"
      ]
     },
     "execution_count": 595,
     "metadata": {},
     "output_type": "execute_result"
    }
   ],
   "execution_count": 595
  },
  {
   "cell_type": "markdown",
   "id": "eedceb80-c5ca-480e-b27a-278dfb8b4438",
   "metadata": {
    "id": "eedceb80-c5ca-480e-b27a-278dfb8b4438"
   },
   "source": [
    "3. Сколько есть вакансий для DS, в которых в качестве ключевого навыка указан SQL или postgres?\n",
    "\n",
    "** Критерии для отнесения вакансии к DS указаны в предыдущем задании.*"
   ]
  },
  {
   "cell_type": "code",
   "id": "69621713-0cc5-4f1b-a1d7-bb144fa6148c",
   "metadata": {
    "id": "69621713-0cc5-4f1b-a1d7-bb144fa6148c",
    "ExecuteTime": {
     "end_time": "2024-08-04T17:13:10.379035Z",
     "start_time": "2024-08-04T17:13:10.375356Z"
    }
   },
   "source": [
    "query_6_3 = f'''\n",
    "select \n",
    "\tcount(v.id) \"кол. вакансий DS с навыками SQL, postgres\"\n",
    "from vacancies v \n",
    "where (v.\"name\"  ilike any (array[{vacancies_str}]) \n",
    "\tor (v.\"name\" not ilike '%HTML%' and v.\"name\" ilike '%ML%'))\n",
    "\tand (v.key_skills ilike '%SQL%' or v.key_skills ilike '%postgres%')\n",
    "'''"
   ],
   "outputs": [],
   "execution_count": 596
  },
  {
   "cell_type": "code",
   "source": [
    "df = pd.read_sql_query(query_6_3, connection)\n",
    "df"
   ],
   "metadata": {
    "id": "alA8WEAAvGdf",
    "ExecuteTime": {
     "end_time": "2024-08-04T17:13:10.692189Z",
     "start_time": "2024-08-04T17:13:10.380287Z"
    }
   },
   "id": "alA8WEAAvGdf",
   "outputs": [
    {
     "name": "stderr",
     "output_type": "stream",
     "text": [
      "C:\\Users\\NCHirkov\\AppData\\Local\\Temp\\ipykernel_2032\\3268897861.py:1: UserWarning:\n",
      "\n",
      "pandas only supports SQLAlchemy connectable (engine/connection) or database string URI or sqlite3 DBAPI2 connection. Other DBAPI2 objects are not tested. Please consider using SQLAlchemy.\n",
      "\n"
     ]
    },
    {
     "data": {
      "text/plain": [
       "   кол. вакансий DS с навыками SQL, postgres\n",
       "0                                        229"
      ],
      "text/html": [
       "<div>\n",
       "<style scoped>\n",
       "    .dataframe tbody tr th:only-of-type {\n",
       "        vertical-align: middle;\n",
       "    }\n",
       "\n",
       "    .dataframe tbody tr th {\n",
       "        vertical-align: top;\n",
       "    }\n",
       "\n",
       "    .dataframe thead th {\n",
       "        text-align: right;\n",
       "    }\n",
       "</style>\n",
       "<table border=\"1\" class=\"dataframe\">\n",
       "  <thead>\n",
       "    <tr style=\"text-align: right;\">\n",
       "      <th></th>\n",
       "      <th>кол. вакансий DS с навыками SQL, postgres</th>\n",
       "    </tr>\n",
       "  </thead>\n",
       "  <tbody>\n",
       "    <tr>\n",
       "      <th>0</th>\n",
       "      <td>229</td>\n",
       "    </tr>\n",
       "  </tbody>\n",
       "</table>\n",
       "</div>"
      ]
     },
     "execution_count": 597,
     "metadata": {},
     "output_type": "execute_result"
    }
   ],
   "execution_count": 597
  },
  {
   "cell_type": "markdown",
   "id": "1be1e9c6-37cf-4a5f-bfeb-04cab799dc80",
   "metadata": {
    "id": "1be1e9c6-37cf-4a5f-bfeb-04cab799dc80"
   },
   "source": [
    "4. Проверьте, насколько популярен Python в требованиях работодателей к DS.Для этого вычислите количество вакансий, в которых в качестве ключевого навыка указан Python.\n",
    "\n",
    "** Это можно сделать помощью запроса, аналогичного предыдущему.*"
   ]
  },
  {
   "cell_type": "code",
   "id": "0036a355-9ccf-4564-8b01-73d8194297e7",
   "metadata": {
    "id": "0036a355-9ccf-4564-8b01-73d8194297e7",
    "ExecuteTime": {
     "end_time": "2024-08-04T17:13:10.697500Z",
     "start_time": "2024-08-04T17:13:10.692690Z"
    }
   },
   "source": [
    "query_6_4 = f'''\n",
    "select \n",
    "\tcount(v.id) \"кол. вакансий DS с навыками Python\"\n",
    "from vacancies v \n",
    "where (v.\"name\"  ilike any (array[{vacancies_str}]) \n",
    "\tor (v.\"name\" not ilike '%HTML%' and v.\"name\" ilike '%ML%'))\n",
    "\tand (v.key_skills ilike '%Python%')\n",
    "'''"
   ],
   "outputs": [],
   "execution_count": 598
  },
  {
   "cell_type": "code",
   "source": [
    "df = pd.read_sql_query(query_6_4, connection)\n",
    "df"
   ],
   "metadata": {
    "id": "1i-5WyucvQ6v",
    "ExecuteTime": {
     "end_time": "2024-08-04T17:13:10.863637Z",
     "start_time": "2024-08-04T17:13:10.697500Z"
    }
   },
   "id": "1i-5WyucvQ6v",
   "outputs": [
    {
     "name": "stderr",
     "output_type": "stream",
     "text": [
      "C:\\Users\\NCHirkov\\AppData\\Local\\Temp\\ipykernel_2032\\463562881.py:1: UserWarning:\n",
      "\n",
      "pandas only supports SQLAlchemy connectable (engine/connection) or database string URI or sqlite3 DBAPI2 connection. Other DBAPI2 objects are not tested. Please consider using SQLAlchemy.\n",
      "\n"
     ]
    },
    {
     "data": {
      "text/plain": [
       "   кол. вакансий DS с навыками Python\n",
       "0                                 357"
      ],
      "text/html": [
       "<div>\n",
       "<style scoped>\n",
       "    .dataframe tbody tr th:only-of-type {\n",
       "        vertical-align: middle;\n",
       "    }\n",
       "\n",
       "    .dataframe tbody tr th {\n",
       "        vertical-align: top;\n",
       "    }\n",
       "\n",
       "    .dataframe thead th {\n",
       "        text-align: right;\n",
       "    }\n",
       "</style>\n",
       "<table border=\"1\" class=\"dataframe\">\n",
       "  <thead>\n",
       "    <tr style=\"text-align: right;\">\n",
       "      <th></th>\n",
       "      <th>кол. вакансий DS с навыками Python</th>\n",
       "    </tr>\n",
       "  </thead>\n",
       "  <tbody>\n",
       "    <tr>\n",
       "      <th>0</th>\n",
       "      <td>357</td>\n",
       "    </tr>\n",
       "  </tbody>\n",
       "</table>\n",
       "</div>"
      ]
     },
     "execution_count": 599,
     "metadata": {},
     "output_type": "execute_result"
    }
   ],
   "execution_count": 599
  },
  {
   "cell_type": "markdown",
   "id": "ec3c8db7-fa21-4a41-a994-1af63742a642",
   "metadata": {
    "id": "ec3c8db7-fa21-4a41-a994-1af63742a642"
   },
   "source": [
    "5. Сколько ключевых навыков в среднем указывают в вакансиях для DS?\n",
    "Ответ округлите до двух знаков после точки-разделителя."
   ]
  },
  {
   "cell_type": "code",
   "id": "949132bc-d5b6-4611-8218-0b9a504d74f4",
   "metadata": {
    "id": "949132bc-d5b6-4611-8218-0b9a504d74f4",
    "ExecuteTime": {
     "end_time": "2024-08-04T17:13:10.868693Z",
     "start_time": "2024-08-04T17:13:10.864875Z"
    }
   },
   "source": [
    "query_6_5 = f'''\n",
    "select \n",
    "\tround(avg(length(key_skills)-length(replace(key_skills, CHR(9), ''))+1), 2) \"ключевых навыков\"\n",
    "from vacancies v \n",
    "where (v.\"name\"  ilike any (array[{vacancies_str}]) \n",
    "\tor (v.\"name\" not ilike '%HTML%' and v.\"name\" like '%ML%'))\n",
    "'''"
   ],
   "outputs": [],
   "execution_count": 600
  },
  {
   "cell_type": "code",
   "source": [
    "df = pd.read_sql_query(query_6_5, connection)\n",
    "df"
   ],
   "metadata": {
    "id": "a3V24Tvmviqk",
    "ExecuteTime": {
     "end_time": "2024-08-04T17:13:11.297760Z",
     "start_time": "2024-08-04T17:13:10.870100Z"
    }
   },
   "id": "a3V24Tvmviqk",
   "outputs": [
    {
     "name": "stderr",
     "output_type": "stream",
     "text": [
      "C:\\Users\\NCHirkov\\AppData\\Local\\Temp\\ipykernel_2032\\2581522160.py:1: UserWarning:\n",
      "\n",
      "pandas only supports SQLAlchemy connectable (engine/connection) or database string URI or sqlite3 DBAPI2 connection. Other DBAPI2 objects are not tested. Please consider using SQLAlchemy.\n",
      "\n"
     ]
    },
    {
     "data": {
      "text/plain": [
       "   ключевых навыков\n",
       "0              6.41"
      ],
      "text/html": [
       "<div>\n",
       "<style scoped>\n",
       "    .dataframe tbody tr th:only-of-type {\n",
       "        vertical-align: middle;\n",
       "    }\n",
       "\n",
       "    .dataframe tbody tr th {\n",
       "        vertical-align: top;\n",
       "    }\n",
       "\n",
       "    .dataframe thead th {\n",
       "        text-align: right;\n",
       "    }\n",
       "</style>\n",
       "<table border=\"1\" class=\"dataframe\">\n",
       "  <thead>\n",
       "    <tr style=\"text-align: right;\">\n",
       "      <th></th>\n",
       "      <th>ключевых навыков</th>\n",
       "    </tr>\n",
       "  </thead>\n",
       "  <tbody>\n",
       "    <tr>\n",
       "      <th>0</th>\n",
       "      <td>6.41</td>\n",
       "    </tr>\n",
       "  </tbody>\n",
       "</table>\n",
       "</div>"
      ]
     },
     "execution_count": 601,
     "metadata": {},
     "output_type": "execute_result"
    }
   ],
   "execution_count": 601
  },
  {
   "cell_type": "markdown",
   "id": "1041c17a-ca8f-4543-a0ca-32778914fb00",
   "metadata": {
    "id": "1041c17a-ca8f-4543-a0ca-32778914fb00"
   },
   "source": [
    "6. Напишите запрос, позволяющий вычислить, какую зарплату для DS в **среднем** указывают для каждого типа требуемого опыта (уникальное значение из поля *experience*). \n",
    "\n",
    "При решении задачи примите во внимание следующее:\n",
    "1. Рассматриваем только вакансии, у которых заполнено хотя бы одно из двух полей с зарплатой.\n",
    "2. Если заполнены оба поля с зарплатой, то считаем зарплату по каждой вакансии как сумму двух полей, делённую на 2. Если заполнено только одно из полей, то его и считаем зарплатой по вакансии.\n",
    "3. Если в расчётах участвует null, в результате он тоже даст null (посмотрите, что возвращает запрос select 1 + null). Чтобы избежать этой ситуацию, мы воспользуемся функцией [coalesce](https://postgrespro.ru/docs/postgresql/9.5/functions-conditional#functions-coalesce-nvl-ifnull), которая заменит null на значение, которое мы передадим. Например, посмотрите, что возвращает запрос `select 1 + coalesce(null, 0)`\n",
    "\n",
    "Выясните, на какую зарплату в среднем может рассчитывать дата-сайентист с опытом работы от 3 до 6 лет. Результат округлите до целого числа. "
   ]
  },
  {
   "cell_type": "code",
   "id": "6a743d39-5204-48d3-8271-b9f88e68d40e",
   "metadata": {
    "id": "6a743d39-5204-48d3-8271-b9f88e68d40e",
    "ExecuteTime": {
     "end_time": "2024-08-04T17:13:11.302668Z",
     "start_time": "2024-08-04T17:13:11.297760Z"
    }
   },
   "source": [
    "query_6_6 = f'''\n",
    "select \n",
    "\tv.experience \"опыт работы\",\t\n",
    "\tround(avg(coalesce ((v.salary_from + v.salary_to)/2 , v.salary_from, v.salary_to)),0) AS \"ЗП\"\n",
    "from vacancies v \n",
    "where (v.\"name\"  ilike any (array[{vacancies_str}]) \n",
    "\tor (v.\"name\" not ilike '%HTML%' and v.\"name\" like '%ML%'))\n",
    "\tand (v.salary_from is not null or v.salary_to  is not null)\n",
    "group by v.experience\n",
    "'''"
   ],
   "outputs": [],
   "execution_count": 602
  },
  {
   "cell_type": "code",
   "source": [
    "df = pd.read_sql_query(query_6_6, connection)\n",
    "df"
   ],
   "metadata": {
    "id": "aRIJ0mZEwU1_",
    "ExecuteTime": {
     "end_time": "2024-08-04T17:13:11.529124Z",
     "start_time": "2024-08-04T17:13:11.304260Z"
    }
   },
   "id": "aRIJ0mZEwU1_",
   "outputs": [
    {
     "name": "stderr",
     "output_type": "stream",
     "text": [
      "C:\\Users\\NCHirkov\\AppData\\Local\\Temp\\ipykernel_2032\\2835978903.py:1: UserWarning:\n",
      "\n",
      "pandas only supports SQLAlchemy connectable (engine/connection) or database string URI or sqlite3 DBAPI2 connection. Other DBAPI2 objects are not tested. Please consider using SQLAlchemy.\n",
      "\n"
     ]
    },
    {
     "data": {
      "text/plain": [
       "          опыт работы        ЗП\n",
       "0           Нет опыта   74643.0\n",
       "1  От 1 года до 3 лет  139675.0\n",
       "2       От 3 до 6 лет  243115.0"
      ],
      "text/html": [
       "<div>\n",
       "<style scoped>\n",
       "    .dataframe tbody tr th:only-of-type {\n",
       "        vertical-align: middle;\n",
       "    }\n",
       "\n",
       "    .dataframe tbody tr th {\n",
       "        vertical-align: top;\n",
       "    }\n",
       "\n",
       "    .dataframe thead th {\n",
       "        text-align: right;\n",
       "    }\n",
       "</style>\n",
       "<table border=\"1\" class=\"dataframe\">\n",
       "  <thead>\n",
       "    <tr style=\"text-align: right;\">\n",
       "      <th></th>\n",
       "      <th>опыт работы</th>\n",
       "      <th>ЗП</th>\n",
       "    </tr>\n",
       "  </thead>\n",
       "  <tbody>\n",
       "    <tr>\n",
       "      <th>0</th>\n",
       "      <td>Нет опыта</td>\n",
       "      <td>74643.0</td>\n",
       "    </tr>\n",
       "    <tr>\n",
       "      <th>1</th>\n",
       "      <td>От 1 года до 3 лет</td>\n",
       "      <td>139675.0</td>\n",
       "    </tr>\n",
       "    <tr>\n",
       "      <th>2</th>\n",
       "      <td>От 3 до 6 лет</td>\n",
       "      <td>243115.0</td>\n",
       "    </tr>\n",
       "  </tbody>\n",
       "</table>\n",
       "</div>"
      ]
     },
     "execution_count": 603,
     "metadata": {},
     "output_type": "execute_result"
    }
   ],
   "execution_count": 603
  },
  {
   "metadata": {},
   "cell_type": "markdown",
   "source": [
    "**ВЫВОД:**\n",
    "1) 3,6% от общего числа вакансий (1771 из 49197), это вакансия имеет отношение к данным\n",
    "2) Подходящих для начинающего дата-сайентиста всего 51 вакансия, а это 0,1% от всех вакансий и 2,9% от вакансий DS \n",
    "3) Вакансий DS (дата-сайентиста), в которых в качестве ключевого навыка указан SQL или postgres 229 (0,5% от всех и 12.9% от вакансий DS)\n",
    "4) Вакансий DS (дата-сайентиста), в которых в качестве ключевого навыка указан Python 357 (0,7% от всех и 20.2% от вакансий DS)\n",
    "5) В среднем, в вакансиях DS указано по 6 ключевых навыков\n",
    "6) Предлагаемая ЗП в среднем:\n",
    "- Без опыта - 74643\n",
    "- От 1 года до 3 лет - 139675\n",
    "- От 3 до 6 лет - 243115"
   ],
   "id": "e61dd739e274f25a"
  },
  {
   "cell_type": "markdown",
   "id": "6a7892b4-4113-4746-adce-18aa2844f18e",
   "metadata": {
    "id": "6a7892b4-4113-4746-adce-18aa2844f18e"
   },
   "source": [
    "***"
   ]
  },
  {
   "cell_type": "markdown",
   "source": [
    "# Общий вывод по проекту"
   ],
   "metadata": {
    "id": "c0ED6fh7wiBT"
   },
   "id": "c0ED6fh7wiBT"
  },
  {
   "metadata": {},
   "cell_type": "markdown",
   "source": [
    "**ОБЩИЙ ВЫВОД**\n",
    "\n",
    "1) Вакансии для IT-специалистов возглавляют ТОП по отраслям и это не удивительно в век цифровизации.\n",
    "2) Около 3,6% (1771) от общего числа вакансий имеют отношение к данным, но это цифра должна резко возрасти, т.к. есть общие тенденции использования инструментов ИИ во всех отраслях.\n",
    "3) Также видно, что в крупных городах большое количество вакансий DS предпологает удаленную работу (Москва 45 вакансий из 169, Санкт-Петербург 11 вакансий из 49). В Воронеже и Екатеринбурге только вакансии с удаленной работой.\n",
    "4) Не много, но есть на рынке предложения начинающим специалистам DS. Учитывая развития этой отрасли, количество предложений, где компании будут брать и развивать молодых специалистов, будет расти в ближайшие годы.\n",
    "5) Уровень ЗП ИТ-специалистов в крупных городах выше среднего и как закономерность, наиболее высокие ЗП предлагают в крупных городах Москва, Новосибирск, Санкт-Петербург. Учитывая тенденции перехода на удаленную работу, разница ЗП крупных городов и регионов должна сгладиться.\n"
   ],
   "id": "e87bf2e5e35130f7"
  },
  {
   "metadata": {},
   "cell_type": "markdown",
   "source": "## Дополнительные иследования",
   "id": "df81bb6e51c1416d"
  },
  {
   "metadata": {},
   "cell_type": "markdown",
   "source": "1. Интересно посмотреть, в каких сферах деятельности больше всего вакансий. ТОП 10.",
   "id": "5eedd94f44492a07"
  },
  {
   "metadata": {},
   "cell_type": "markdown",
   "source": "",
   "id": "1118b1068eba3ba1"
  },
  {
   "cell_type": "code",
   "source": [
    "# текст запроса\n",
    "query_d_1 = f'''\n",
    "select \n",
    "\ti.\"name\" as \"сфера деятельности\",\n",
    "\tcount(v.id) as \"количество вакансий\"\n",
    "from employers_industries ei \n",
    "join industries i on ei.industry_id = i.id \n",
    "join employers e on ei.employer_id = e.id \n",
    "join vacancies v on e.id = v.employer_id \n",
    "group by i.id \n",
    "order by \"количество вакансий\" desc \n",
    "limit 10\n",
    "'''\n",
    "\n",
    "df = pd.read_sql_query(query_d_1, connection)\n",
    "df"
   ],
   "metadata": {
    "id": "h9B3BL-wwj18",
    "ExecuteTime": {
     "end_time": "2024-08-04T17:13:11.637337Z",
     "start_time": "2024-08-04T17:13:11.529623Z"
    }
   },
   "id": "h9B3BL-wwj18",
   "outputs": [
    {
     "name": "stderr",
     "output_type": "stream",
     "text": [
      "C:\\Users\\NCHirkov\\AppData\\Local\\Temp\\ipykernel_2032\\8309179.py:15: UserWarning:\n",
      "\n",
      "pandas only supports SQLAlchemy connectable (engine/connection) or database string URI or sqlite3 DBAPI2 connection. Other DBAPI2 objects are not tested. Please consider using SQLAlchemy.\n",
      "\n"
     ]
    },
    {
     "data": {
      "text/plain": [
       "                                  сфера деятельности  количество вакансий\n",
       "0                Разработка программного обеспечения                12499\n",
       "1  Системная интеграция,  автоматизации технологи...                11034\n",
       "2  Интернет-компания (поисковики, платежные систе...                 6413\n",
       "3                                               Банк                 2742\n",
       "4                                    Мобильная связь                 1585\n",
       "5                                 Кадровые агентства                 1143\n",
       "6                              Консалтинговые услуги                 1137\n",
       "7                                 Интернет-провайдер                 1095\n",
       "8                       Розничная сеть (продуктовая)                 1034\n",
       "9                                Фиксированная связь                 1028"
      ],
      "text/html": [
       "<div>\n",
       "<style scoped>\n",
       "    .dataframe tbody tr th:only-of-type {\n",
       "        vertical-align: middle;\n",
       "    }\n",
       "\n",
       "    .dataframe tbody tr th {\n",
       "        vertical-align: top;\n",
       "    }\n",
       "\n",
       "    .dataframe thead th {\n",
       "        text-align: right;\n",
       "    }\n",
       "</style>\n",
       "<table border=\"1\" class=\"dataframe\">\n",
       "  <thead>\n",
       "    <tr style=\"text-align: right;\">\n",
       "      <th></th>\n",
       "      <th>сфера деятельности</th>\n",
       "      <th>количество вакансий</th>\n",
       "    </tr>\n",
       "  </thead>\n",
       "  <tbody>\n",
       "    <tr>\n",
       "      <th>0</th>\n",
       "      <td>Разработка программного обеспечения</td>\n",
       "      <td>12499</td>\n",
       "    </tr>\n",
       "    <tr>\n",
       "      <th>1</th>\n",
       "      <td>Системная интеграция,  автоматизации технологи...</td>\n",
       "      <td>11034</td>\n",
       "    </tr>\n",
       "    <tr>\n",
       "      <th>2</th>\n",
       "      <td>Интернет-компания (поисковики, платежные систе...</td>\n",
       "      <td>6413</td>\n",
       "    </tr>\n",
       "    <tr>\n",
       "      <th>3</th>\n",
       "      <td>Банк</td>\n",
       "      <td>2742</td>\n",
       "    </tr>\n",
       "    <tr>\n",
       "      <th>4</th>\n",
       "      <td>Мобильная связь</td>\n",
       "      <td>1585</td>\n",
       "    </tr>\n",
       "    <tr>\n",
       "      <th>5</th>\n",
       "      <td>Кадровые агентства</td>\n",
       "      <td>1143</td>\n",
       "    </tr>\n",
       "    <tr>\n",
       "      <th>6</th>\n",
       "      <td>Консалтинговые услуги</td>\n",
       "      <td>1137</td>\n",
       "    </tr>\n",
       "    <tr>\n",
       "      <th>7</th>\n",
       "      <td>Интернет-провайдер</td>\n",
       "      <td>1095</td>\n",
       "    </tr>\n",
       "    <tr>\n",
       "      <th>8</th>\n",
       "      <td>Розничная сеть (продуктовая)</td>\n",
       "      <td>1034</td>\n",
       "    </tr>\n",
       "    <tr>\n",
       "      <th>9</th>\n",
       "      <td>Фиксированная связь</td>\n",
       "      <td>1028</td>\n",
       "    </tr>\n",
       "  </tbody>\n",
       "</table>\n",
       "</div>"
      ]
     },
     "execution_count": 604,
     "metadata": {},
     "output_type": "execute_result"
    }
   ],
   "execution_count": 604
  },
  {
   "metadata": {},
   "cell_type": "markdown",
   "source": "2. Посмотрим среднюю зп по Сферам деятельности. ТОП 20",
   "id": "ab98111b9fd1b3f5"
  },
  {
   "metadata": {
    "ExecuteTime": {
     "end_time": "2024-08-04T17:13:11.732620Z",
     "start_time": "2024-08-04T17:13:11.638973Z"
    }
   },
   "cell_type": "code",
   "source": [
    "# текст запроса\n",
    "query_d_2 = f'''\n",
    "select \n",
    "\ti.\"name\" as \"сфера деятельности\",\n",
    "\tround(avg(coalesce ((v.salary_from + v.salary_to)/2 , v.salary_from, v.salary_to)),0) AS \"ЗП\"\n",
    "from employers_industries ei \n",
    "join industries i on ei.industry_id = i.id \n",
    "join employers e on ei.employer_id = e.id \n",
    "join vacancies v on e.id = v.employer_id \n",
    "group by i.id \n",
    "order by \"ЗП\" desc NULLS LAST \n",
    "limit 20\n",
    "'''\n",
    "\n",
    "df = pd.read_sql_query(query_d_2, connection)\n",
    "df"
   ],
   "id": "fdfaeb5211c061d8",
   "outputs": [
    {
     "name": "stderr",
     "output_type": "stream",
     "text": [
      "C:\\Users\\NCHirkov\\AppData\\Local\\Temp\\ipykernel_2032\\3208359040.py:15: UserWarning:\n",
      "\n",
      "pandas only supports SQLAlchemy connectable (engine/connection) or database string URI or sqlite3 DBAPI2 connection. Other DBAPI2 objects are not tested. Please consider using SQLAlchemy.\n",
      "\n"
     ]
    },
    {
     "data": {
      "text/plain": [
       "                                   сфера деятельности        ЗП\n",
       "0           Агрохимия (продвижение, оптовая торговля)  381429.0\n",
       "1                            Агрохимия (производство)  339875.0\n",
       "2                                      Игорный бизнес  191905.0\n",
       "3                   Корма для животных (производство)  168300.0\n",
       "4                                          Зоомагазин  167613.0\n",
       "5                                  Кадровые агентства  144530.0\n",
       "6       Лакокрасочная продукция, сырье (производство)  142803.0\n",
       "7   Бытовая химия, парфюмерия, косметика  (произво...  130120.0\n",
       "8   Лакокрасочная продукция, сырье (продвижение, о...  128445.0\n",
       "9   Дорожно-строительная техника, сельскохозяйстве...  122878.0\n",
       "10  Дорожно-строительная техника, сельскохозяйстве...  119919.0\n",
       "11  Оборудование для пищевой промышленности, упако...  119656.0\n",
       "12  Финансово-кредитное посредничество (биржа, бро...  117714.0\n",
       "13                Разработка программного обеспечения  117659.0\n",
       "14  Управляющая, инвестиционная компания (управлен...  114297.0\n",
       "15  Корма для животных (продвижение, оптовая торго...  113667.0\n",
       "16                          Ветеринарная деятельность  113364.0\n",
       "17                     Учреждение соц.помощи и защиты  113125.0\n",
       "18                                Лизинговые компании  112306.0\n",
       "19                       Пошив, ремонт одежды и обуви  104000.0"
      ],
      "text/html": [
       "<div>\n",
       "<style scoped>\n",
       "    .dataframe tbody tr th:only-of-type {\n",
       "        vertical-align: middle;\n",
       "    }\n",
       "\n",
       "    .dataframe tbody tr th {\n",
       "        vertical-align: top;\n",
       "    }\n",
       "\n",
       "    .dataframe thead th {\n",
       "        text-align: right;\n",
       "    }\n",
       "</style>\n",
       "<table border=\"1\" class=\"dataframe\">\n",
       "  <thead>\n",
       "    <tr style=\"text-align: right;\">\n",
       "      <th></th>\n",
       "      <th>сфера деятельности</th>\n",
       "      <th>ЗП</th>\n",
       "    </tr>\n",
       "  </thead>\n",
       "  <tbody>\n",
       "    <tr>\n",
       "      <th>0</th>\n",
       "      <td>Агрохимия (продвижение, оптовая торговля)</td>\n",
       "      <td>381429.0</td>\n",
       "    </tr>\n",
       "    <tr>\n",
       "      <th>1</th>\n",
       "      <td>Агрохимия (производство)</td>\n",
       "      <td>339875.0</td>\n",
       "    </tr>\n",
       "    <tr>\n",
       "      <th>2</th>\n",
       "      <td>Игорный бизнес</td>\n",
       "      <td>191905.0</td>\n",
       "    </tr>\n",
       "    <tr>\n",
       "      <th>3</th>\n",
       "      <td>Корма для животных (производство)</td>\n",
       "      <td>168300.0</td>\n",
       "    </tr>\n",
       "    <tr>\n",
       "      <th>4</th>\n",
       "      <td>Зоомагазин</td>\n",
       "      <td>167613.0</td>\n",
       "    </tr>\n",
       "    <tr>\n",
       "      <th>5</th>\n",
       "      <td>Кадровые агентства</td>\n",
       "      <td>144530.0</td>\n",
       "    </tr>\n",
       "    <tr>\n",
       "      <th>6</th>\n",
       "      <td>Лакокрасочная продукция, сырье (производство)</td>\n",
       "      <td>142803.0</td>\n",
       "    </tr>\n",
       "    <tr>\n",
       "      <th>7</th>\n",
       "      <td>Бытовая химия, парфюмерия, косметика  (произво...</td>\n",
       "      <td>130120.0</td>\n",
       "    </tr>\n",
       "    <tr>\n",
       "      <th>8</th>\n",
       "      <td>Лакокрасочная продукция, сырье (продвижение, о...</td>\n",
       "      <td>128445.0</td>\n",
       "    </tr>\n",
       "    <tr>\n",
       "      <th>9</th>\n",
       "      <td>Дорожно-строительная техника, сельскохозяйстве...</td>\n",
       "      <td>122878.0</td>\n",
       "    </tr>\n",
       "    <tr>\n",
       "      <th>10</th>\n",
       "      <td>Дорожно-строительная техника, сельскохозяйстве...</td>\n",
       "      <td>119919.0</td>\n",
       "    </tr>\n",
       "    <tr>\n",
       "      <th>11</th>\n",
       "      <td>Оборудование для пищевой промышленности, упако...</td>\n",
       "      <td>119656.0</td>\n",
       "    </tr>\n",
       "    <tr>\n",
       "      <th>12</th>\n",
       "      <td>Финансово-кредитное посредничество (биржа, бро...</td>\n",
       "      <td>117714.0</td>\n",
       "    </tr>\n",
       "    <tr>\n",
       "      <th>13</th>\n",
       "      <td>Разработка программного обеспечения</td>\n",
       "      <td>117659.0</td>\n",
       "    </tr>\n",
       "    <tr>\n",
       "      <th>14</th>\n",
       "      <td>Управляющая, инвестиционная компания (управлен...</td>\n",
       "      <td>114297.0</td>\n",
       "    </tr>\n",
       "    <tr>\n",
       "      <th>15</th>\n",
       "      <td>Корма для животных (продвижение, оптовая торго...</td>\n",
       "      <td>113667.0</td>\n",
       "    </tr>\n",
       "    <tr>\n",
       "      <th>16</th>\n",
       "      <td>Ветеринарная деятельность</td>\n",
       "      <td>113364.0</td>\n",
       "    </tr>\n",
       "    <tr>\n",
       "      <th>17</th>\n",
       "      <td>Учреждение соц.помощи и защиты</td>\n",
       "      <td>113125.0</td>\n",
       "    </tr>\n",
       "    <tr>\n",
       "      <th>18</th>\n",
       "      <td>Лизинговые компании</td>\n",
       "      <td>112306.0</td>\n",
       "    </tr>\n",
       "    <tr>\n",
       "      <th>19</th>\n",
       "      <td>Пошив, ремонт одежды и обуви</td>\n",
       "      <td>104000.0</td>\n",
       "    </tr>\n",
       "  </tbody>\n",
       "</table>\n",
       "</div>"
      ]
     },
     "execution_count": 605,
     "metadata": {},
     "output_type": "execute_result"
    }
   ],
   "execution_count": 605
  },
  {
   "metadata": {},
   "cell_type": "markdown",
   "source": "3. Посмотрим на количество ключевых навыков в зависимости от опыта работы по вакансиям DS",
   "id": "4a3fef44534e7f62"
  },
  {
   "metadata": {
    "ExecuteTime": {
     "end_time": "2024-08-04T17:13:12.218425Z",
     "start_time": "2024-08-04T17:13:11.733296Z"
    }
   },
   "cell_type": "code",
   "source": [
    "query_d_3 = f'''\n",
    "select \n",
    "\tv.experience \"опыт работы\",\n",
    "\tavg(length(v.key_skills) - length(replace(v.key_skills,chr(9),''))+1) as \"ср. количество ключевых навыков\"\n",
    "from vacancies v \n",
    "where v.\"name\"  ilike any (array[{vacancies_str}]) \n",
    "\tor (v.\"name\"  not ilike '%HTML%' and v.\"name\" ilike '%ML%')\n",
    "group by v.experience\n",
    "order by \"ср. количество ключевых навыков\" desc \n",
    "'''\n",
    "df = pd.read_sql_query(query_d_3, connection)\n",
    "df"
   ],
   "id": "df03bf3f0bfda65f",
   "outputs": [
    {
     "name": "stderr",
     "output_type": "stream",
     "text": [
      "C:\\Users\\NCHirkov\\AppData\\Local\\Temp\\ipykernel_2032\\3128990646.py:11: UserWarning:\n",
      "\n",
      "pandas only supports SQLAlchemy connectable (engine/connection) or database string URI or sqlite3 DBAPI2 connection. Other DBAPI2 objects are not tested. Please consider using SQLAlchemy.\n",
      "\n"
     ]
    },
    {
     "data": {
      "text/plain": [
       "          опыт работы  ср. количество ключевых навыков\n",
       "0           Нет опыта                         7.423077\n",
       "1  От 1 года до 3 лет                         6.795122\n",
       "2       От 3 до 6 лет                         6.298077\n",
       "3         Более 6 лет                         6.023810"
      ],
      "text/html": [
       "<div>\n",
       "<style scoped>\n",
       "    .dataframe tbody tr th:only-of-type {\n",
       "        vertical-align: middle;\n",
       "    }\n",
       "\n",
       "    .dataframe tbody tr th {\n",
       "        vertical-align: top;\n",
       "    }\n",
       "\n",
       "    .dataframe thead th {\n",
       "        text-align: right;\n",
       "    }\n",
       "</style>\n",
       "<table border=\"1\" class=\"dataframe\">\n",
       "  <thead>\n",
       "    <tr style=\"text-align: right;\">\n",
       "      <th></th>\n",
       "      <th>опыт работы</th>\n",
       "      <th>ср. количество ключевых навыков</th>\n",
       "    </tr>\n",
       "  </thead>\n",
       "  <tbody>\n",
       "    <tr>\n",
       "      <th>0</th>\n",
       "      <td>Нет опыта</td>\n",
       "      <td>7.423077</td>\n",
       "    </tr>\n",
       "    <tr>\n",
       "      <th>1</th>\n",
       "      <td>От 1 года до 3 лет</td>\n",
       "      <td>6.795122</td>\n",
       "    </tr>\n",
       "    <tr>\n",
       "      <th>2</th>\n",
       "      <td>От 3 до 6 лет</td>\n",
       "      <td>6.298077</td>\n",
       "    </tr>\n",
       "    <tr>\n",
       "      <th>3</th>\n",
       "      <td>Более 6 лет</td>\n",
       "      <td>6.023810</td>\n",
       "    </tr>\n",
       "  </tbody>\n",
       "</table>\n",
       "</div>"
      ]
     },
     "execution_count": 606,
     "metadata": {},
     "output_type": "execute_result"
    }
   ],
   "execution_count": 606
  },
  {
   "metadata": {},
   "cell_type": "markdown",
   "source": "4. Определим компании, которые предлагают больше всего вакансий DS. ТОП 10.",
   "id": "1c105098114feeed"
  },
  {
   "metadata": {},
   "cell_type": "markdown",
   "source": "",
   "id": "68c7151a244e1949"
  },
  {
   "metadata": {
    "ExecuteTime": {
     "end_time": "2024-08-04T17:13:12.726641Z",
     "start_time": "2024-08-04T17:13:12.222966Z"
    }
   },
   "cell_type": "code",
   "source": [
    "\n",
    "query_d_4 = f'''\n",
    "select\n",
    "    e.name as \"компания\",\n",
    "    count(v.id) as \"количество вакансий\"    \n",
    "from vacancies v\n",
    "join employers e ON v.employer_id = e.id\n",
    "where v.\"name\"  ilike any (array[{vacancies_str}]) \n",
    "\tor (v.\"name\"  not ilike '%HTML%' and v.\"name\" ilike '%ML%')\n",
    "group by e.name\n",
    "order by \"количество вакансий\" desc\n",
    "limit 10\n",
    "'''\n",
    "df = pd.read_sql_query(query_d_4, connection)\n",
    "df"
   ],
   "id": "a5ef69c55d2a9317",
   "outputs": [
    {
     "name": "stderr",
     "output_type": "stream",
     "text": [
      "C:\\Users\\NCHirkov\\AppData\\Local\\Temp\\ipykernel_2032\\130630729.py:13: UserWarning:\n",
      "\n",
      "pandas only supports SQLAlchemy connectable (engine/connection) or database string URI or sqlite3 DBAPI2 connection. Other DBAPI2 objects are not tested. Please consider using SQLAlchemy.\n",
      "\n"
     ]
    },
    {
     "data": {
      "text/plain": [
       "                компания  количество вакансий\n",
       "0                   СБЕР                   39\n",
       "1        Bell Integrator                   25\n",
       "2         Банк ВТБ (ПАО)                   18\n",
       "3                     VK                   15\n",
       "4  Positive Technologies                   11\n",
       "5                 Яндекс                    9\n",
       "6         EvenBet Gaming                    9\n",
       "7                МегаФон                    8\n",
       "8               Andersen                    7\n",
       "9     Бэнкс Софт Системс                    6"
      ],
      "text/html": [
       "<div>\n",
       "<style scoped>\n",
       "    .dataframe tbody tr th:only-of-type {\n",
       "        vertical-align: middle;\n",
       "    }\n",
       "\n",
       "    .dataframe tbody tr th {\n",
       "        vertical-align: top;\n",
       "    }\n",
       "\n",
       "    .dataframe thead th {\n",
       "        text-align: right;\n",
       "    }\n",
       "</style>\n",
       "<table border=\"1\" class=\"dataframe\">\n",
       "  <thead>\n",
       "    <tr style=\"text-align: right;\">\n",
       "      <th></th>\n",
       "      <th>компания</th>\n",
       "      <th>количество вакансий</th>\n",
       "    </tr>\n",
       "  </thead>\n",
       "  <tbody>\n",
       "    <tr>\n",
       "      <th>0</th>\n",
       "      <td>СБЕР</td>\n",
       "      <td>39</td>\n",
       "    </tr>\n",
       "    <tr>\n",
       "      <th>1</th>\n",
       "      <td>Bell Integrator</td>\n",
       "      <td>25</td>\n",
       "    </tr>\n",
       "    <tr>\n",
       "      <th>2</th>\n",
       "      <td>Банк ВТБ (ПАО)</td>\n",
       "      <td>18</td>\n",
       "    </tr>\n",
       "    <tr>\n",
       "      <th>3</th>\n",
       "      <td>VK</td>\n",
       "      <td>15</td>\n",
       "    </tr>\n",
       "    <tr>\n",
       "      <th>4</th>\n",
       "      <td>Positive Technologies</td>\n",
       "      <td>11</td>\n",
       "    </tr>\n",
       "    <tr>\n",
       "      <th>5</th>\n",
       "      <td>Яндекс</td>\n",
       "      <td>9</td>\n",
       "    </tr>\n",
       "    <tr>\n",
       "      <th>6</th>\n",
       "      <td>EvenBet Gaming</td>\n",
       "      <td>9</td>\n",
       "    </tr>\n",
       "    <tr>\n",
       "      <th>7</th>\n",
       "      <td>МегаФон</td>\n",
       "      <td>8</td>\n",
       "    </tr>\n",
       "    <tr>\n",
       "      <th>8</th>\n",
       "      <td>Andersen</td>\n",
       "      <td>7</td>\n",
       "    </tr>\n",
       "    <tr>\n",
       "      <th>9</th>\n",
       "      <td>Бэнкс Софт Системс</td>\n",
       "      <td>6</td>\n",
       "    </tr>\n",
       "  </tbody>\n",
       "</table>\n",
       "</div>"
      ]
     },
     "execution_count": 607,
     "metadata": {},
     "output_type": "execute_result"
    }
   ],
   "execution_count": 607
  },
  {
   "metadata": {},
   "cell_type": "markdown",
   "source": "5. Посмотрим, как влияет на зарплату DS тип рабочего графика в разрезе городов",
   "id": "7e8d9510e7cfc07e"
  },
  {
   "metadata": {
    "ExecuteTime": {
     "end_time": "2024-08-04T17:13:13.503173Z",
     "start_time": "2024-08-04T17:13:12.727501Z"
    }
   },
   "cell_type": "code",
   "source": [
    "\n",
    "query_d_5 = f'''\n",
    "select\n",
    "\ta.\"name\" as area_name,\n",
    "\tv.schedule  as schedule,\n",
    "\tcount(v.employment) as vacancie_cnt,\n",
    "\tround(avg(coalesce ((v.salary_from + v.salary_to)/2 , v.salary_from, v.salary_to)),0) AS salary\n",
    "from vacancies v\n",
    "join areas a on a.id = v.area_id \n",
    "where (v.\"name\"  ilike any (array[{vacancies_str}]) \n",
    "\tor (v.\"name\"  not ilike '%HTML%' and v.\"name\" ilike '%ML%'))\n",
    "\tand a.\"name\" in ({cities})\n",
    "group by area_name, schedule\n",
    "\n",
    "union \n",
    "\n",
    "(select\n",
    "\t'Другие регионы' as area_name,\n",
    "\tv.schedule  as schedule,\n",
    "\tcount(v.employment) as vacancie_cnt,\n",
    "\tround(avg(coalesce ((v.salary_from + v.salary_to)/2 , v.salary_from, v.salary_to)),0) AS salary\n",
    "from vacancies v\n",
    "join areas a on a.id = v.area_id \n",
    "where (v.\"name\"  ilike any (array[{vacancies_str}]) \n",
    "\tor (v.\"name\"  not ilike '%HTML%' and v.\"name\" ilike '%ML%'))\n",
    "\tand a.\"name\" not in ({cities})\n",
    "group by schedule)\n",
    "order by salary desc NULLS LAST , area_name, schedule \n",
    "'''\n",
    "\n",
    "df = pd.read_sql_query(query_d_5, connection)\n",
    "df"
   ],
   "id": "78cf38b0f2f0560f",
   "outputs": [
    {
     "name": "stderr",
     "output_type": "stream",
     "text": [
      "C:\\Users\\NCHirkov\\AppData\\Local\\Temp\\ipykernel_2032\\2409866333.py:30: UserWarning:\n",
      "\n",
      "pandas only supports SQLAlchemy connectable (engine/connection) or database string URI or sqlite3 DBAPI2 connection. Other DBAPI2 objects are not tested. Please consider using SQLAlchemy.\n",
      "\n"
     ]
    },
    {
     "data": {
      "text/plain": [
       "          area_name          schedule  vacancie_cnt    salary\n",
       "0    Ростов-на-Дону  Удаленная работа             3  337500.0\n",
       "1    Другие регионы  Удаленная работа            45  303923.0\n",
       "2            Казань  Удаленная работа             6  285500.0\n",
       "3            Москва       Полный день           169  220316.0\n",
       "4   Санкт-Петербург     Гибкий график             9  215000.0\n",
       "5            Москва     Гибкий график            11  210000.0\n",
       "6            Москва  Удаленная работа            45  200000.0\n",
       "7       Новосибирск       Полный день            13  190000.0\n",
       "8   Санкт-Петербург       Полный день            49  179714.0\n",
       "9   Санкт-Петербург  Удаленная работа            11  175346.0\n",
       "10     Екатеринбург       Полный день             4  167500.0\n",
       "11   Другие регионы       Полный день            68  163352.0\n",
       "12   Другие регионы     Гибкий график            14  148911.0\n",
       "13            Пермь       Полный день             5  130000.0\n",
       "14      Новосибирск  Удаленная работа             5  119000.0\n",
       "15           Казань       Полный день            12  100000.0\n",
       "16          Воронеж       Полный день             2   90000.0\n",
       "17            Пермь  Удаленная работа             2   90000.0\n",
       "18              Уфа  Удаленная работа             1   90000.0\n",
       "19   Ростов-на-Дону       Полный день             7   50000.0\n",
       "20     Екатеринбург     Гибкий график             1   37000.0\n",
       "21        Волгоград       Полный день             1       NaN\n",
       "22          Воронеж  Удаленная работа             2       NaN\n",
       "23     Екатеринбург  Удаленная работа             2       NaN\n",
       "24           Казань     Гибкий график             1       NaN\n",
       "25        Краснодар     Гибкий график             1       NaN\n",
       "26        Краснодар       Полный день             4       NaN\n",
       "27        Краснодар  Удаленная работа             2       NaN\n",
       "28       Красноярск     Гибкий график             1       NaN\n",
       "29  Нижний Новгород     Гибкий график             3       NaN\n",
       "30  Нижний Новгород       Полный день            14       NaN\n",
       "31  Нижний Новгород  Удаленная работа             3       NaN\n",
       "32      Новосибирск     Гибкий график             5       NaN\n",
       "33             Омск       Полный день             3       NaN\n",
       "34            Пермь     Гибкий график             1       NaN\n",
       "35   Ростов-на-Дону     Гибкий график             1       NaN\n",
       "36           Самара       Полный день             4       NaN\n",
       "37           Самара  Удаленная работа             2       NaN\n",
       "38              Уфа       Полный день             3       NaN\n",
       "39        Челябинск       Полный день             1       NaN"
      ],
      "text/html": [
       "<div>\n",
       "<style scoped>\n",
       "    .dataframe tbody tr th:only-of-type {\n",
       "        vertical-align: middle;\n",
       "    }\n",
       "\n",
       "    .dataframe tbody tr th {\n",
       "        vertical-align: top;\n",
       "    }\n",
       "\n",
       "    .dataframe thead th {\n",
       "        text-align: right;\n",
       "    }\n",
       "</style>\n",
       "<table border=\"1\" class=\"dataframe\">\n",
       "  <thead>\n",
       "    <tr style=\"text-align: right;\">\n",
       "      <th></th>\n",
       "      <th>area_name</th>\n",
       "      <th>schedule</th>\n",
       "      <th>vacancie_cnt</th>\n",
       "      <th>salary</th>\n",
       "    </tr>\n",
       "  </thead>\n",
       "  <tbody>\n",
       "    <tr>\n",
       "      <th>0</th>\n",
       "      <td>Ростов-на-Дону</td>\n",
       "      <td>Удаленная работа</td>\n",
       "      <td>3</td>\n",
       "      <td>337500.0</td>\n",
       "    </tr>\n",
       "    <tr>\n",
       "      <th>1</th>\n",
       "      <td>Другие регионы</td>\n",
       "      <td>Удаленная работа</td>\n",
       "      <td>45</td>\n",
       "      <td>303923.0</td>\n",
       "    </tr>\n",
       "    <tr>\n",
       "      <th>2</th>\n",
       "      <td>Казань</td>\n",
       "      <td>Удаленная работа</td>\n",
       "      <td>6</td>\n",
       "      <td>285500.0</td>\n",
       "    </tr>\n",
       "    <tr>\n",
       "      <th>3</th>\n",
       "      <td>Москва</td>\n",
       "      <td>Полный день</td>\n",
       "      <td>169</td>\n",
       "      <td>220316.0</td>\n",
       "    </tr>\n",
       "    <tr>\n",
       "      <th>4</th>\n",
       "      <td>Санкт-Петербург</td>\n",
       "      <td>Гибкий график</td>\n",
       "      <td>9</td>\n",
       "      <td>215000.0</td>\n",
       "    </tr>\n",
       "    <tr>\n",
       "      <th>5</th>\n",
       "      <td>Москва</td>\n",
       "      <td>Гибкий график</td>\n",
       "      <td>11</td>\n",
       "      <td>210000.0</td>\n",
       "    </tr>\n",
       "    <tr>\n",
       "      <th>6</th>\n",
       "      <td>Москва</td>\n",
       "      <td>Удаленная работа</td>\n",
       "      <td>45</td>\n",
       "      <td>200000.0</td>\n",
       "    </tr>\n",
       "    <tr>\n",
       "      <th>7</th>\n",
       "      <td>Новосибирск</td>\n",
       "      <td>Полный день</td>\n",
       "      <td>13</td>\n",
       "      <td>190000.0</td>\n",
       "    </tr>\n",
       "    <tr>\n",
       "      <th>8</th>\n",
       "      <td>Санкт-Петербург</td>\n",
       "      <td>Полный день</td>\n",
       "      <td>49</td>\n",
       "      <td>179714.0</td>\n",
       "    </tr>\n",
       "    <tr>\n",
       "      <th>9</th>\n",
       "      <td>Санкт-Петербург</td>\n",
       "      <td>Удаленная работа</td>\n",
       "      <td>11</td>\n",
       "      <td>175346.0</td>\n",
       "    </tr>\n",
       "    <tr>\n",
       "      <th>10</th>\n",
       "      <td>Екатеринбург</td>\n",
       "      <td>Полный день</td>\n",
       "      <td>4</td>\n",
       "      <td>167500.0</td>\n",
       "    </tr>\n",
       "    <tr>\n",
       "      <th>11</th>\n",
       "      <td>Другие регионы</td>\n",
       "      <td>Полный день</td>\n",
       "      <td>68</td>\n",
       "      <td>163352.0</td>\n",
       "    </tr>\n",
       "    <tr>\n",
       "      <th>12</th>\n",
       "      <td>Другие регионы</td>\n",
       "      <td>Гибкий график</td>\n",
       "      <td>14</td>\n",
       "      <td>148911.0</td>\n",
       "    </tr>\n",
       "    <tr>\n",
       "      <th>13</th>\n",
       "      <td>Пермь</td>\n",
       "      <td>Полный день</td>\n",
       "      <td>5</td>\n",
       "      <td>130000.0</td>\n",
       "    </tr>\n",
       "    <tr>\n",
       "      <th>14</th>\n",
       "      <td>Новосибирск</td>\n",
       "      <td>Удаленная работа</td>\n",
       "      <td>5</td>\n",
       "      <td>119000.0</td>\n",
       "    </tr>\n",
       "    <tr>\n",
       "      <th>15</th>\n",
       "      <td>Казань</td>\n",
       "      <td>Полный день</td>\n",
       "      <td>12</td>\n",
       "      <td>100000.0</td>\n",
       "    </tr>\n",
       "    <tr>\n",
       "      <th>16</th>\n",
       "      <td>Воронеж</td>\n",
       "      <td>Полный день</td>\n",
       "      <td>2</td>\n",
       "      <td>90000.0</td>\n",
       "    </tr>\n",
       "    <tr>\n",
       "      <th>17</th>\n",
       "      <td>Пермь</td>\n",
       "      <td>Удаленная работа</td>\n",
       "      <td>2</td>\n",
       "      <td>90000.0</td>\n",
       "    </tr>\n",
       "    <tr>\n",
       "      <th>18</th>\n",
       "      <td>Уфа</td>\n",
       "      <td>Удаленная работа</td>\n",
       "      <td>1</td>\n",
       "      <td>90000.0</td>\n",
       "    </tr>\n",
       "    <tr>\n",
       "      <th>19</th>\n",
       "      <td>Ростов-на-Дону</td>\n",
       "      <td>Полный день</td>\n",
       "      <td>7</td>\n",
       "      <td>50000.0</td>\n",
       "    </tr>\n",
       "    <tr>\n",
       "      <th>20</th>\n",
       "      <td>Екатеринбург</td>\n",
       "      <td>Гибкий график</td>\n",
       "      <td>1</td>\n",
       "      <td>37000.0</td>\n",
       "    </tr>\n",
       "    <tr>\n",
       "      <th>21</th>\n",
       "      <td>Волгоград</td>\n",
       "      <td>Полный день</td>\n",
       "      <td>1</td>\n",
       "      <td>NaN</td>\n",
       "    </tr>\n",
       "    <tr>\n",
       "      <th>22</th>\n",
       "      <td>Воронеж</td>\n",
       "      <td>Удаленная работа</td>\n",
       "      <td>2</td>\n",
       "      <td>NaN</td>\n",
       "    </tr>\n",
       "    <tr>\n",
       "      <th>23</th>\n",
       "      <td>Екатеринбург</td>\n",
       "      <td>Удаленная работа</td>\n",
       "      <td>2</td>\n",
       "      <td>NaN</td>\n",
       "    </tr>\n",
       "    <tr>\n",
       "      <th>24</th>\n",
       "      <td>Казань</td>\n",
       "      <td>Гибкий график</td>\n",
       "      <td>1</td>\n",
       "      <td>NaN</td>\n",
       "    </tr>\n",
       "    <tr>\n",
       "      <th>25</th>\n",
       "      <td>Краснодар</td>\n",
       "      <td>Гибкий график</td>\n",
       "      <td>1</td>\n",
       "      <td>NaN</td>\n",
       "    </tr>\n",
       "    <tr>\n",
       "      <th>26</th>\n",
       "      <td>Краснодар</td>\n",
       "      <td>Полный день</td>\n",
       "      <td>4</td>\n",
       "      <td>NaN</td>\n",
       "    </tr>\n",
       "    <tr>\n",
       "      <th>27</th>\n",
       "      <td>Краснодар</td>\n",
       "      <td>Удаленная работа</td>\n",
       "      <td>2</td>\n",
       "      <td>NaN</td>\n",
       "    </tr>\n",
       "    <tr>\n",
       "      <th>28</th>\n",
       "      <td>Красноярск</td>\n",
       "      <td>Гибкий график</td>\n",
       "      <td>1</td>\n",
       "      <td>NaN</td>\n",
       "    </tr>\n",
       "    <tr>\n",
       "      <th>29</th>\n",
       "      <td>Нижний Новгород</td>\n",
       "      <td>Гибкий график</td>\n",
       "      <td>3</td>\n",
       "      <td>NaN</td>\n",
       "    </tr>\n",
       "    <tr>\n",
       "      <th>30</th>\n",
       "      <td>Нижний Новгород</td>\n",
       "      <td>Полный день</td>\n",
       "      <td>14</td>\n",
       "      <td>NaN</td>\n",
       "    </tr>\n",
       "    <tr>\n",
       "      <th>31</th>\n",
       "      <td>Нижний Новгород</td>\n",
       "      <td>Удаленная работа</td>\n",
       "      <td>3</td>\n",
       "      <td>NaN</td>\n",
       "    </tr>\n",
       "    <tr>\n",
       "      <th>32</th>\n",
       "      <td>Новосибирск</td>\n",
       "      <td>Гибкий график</td>\n",
       "      <td>5</td>\n",
       "      <td>NaN</td>\n",
       "    </tr>\n",
       "    <tr>\n",
       "      <th>33</th>\n",
       "      <td>Омск</td>\n",
       "      <td>Полный день</td>\n",
       "      <td>3</td>\n",
       "      <td>NaN</td>\n",
       "    </tr>\n",
       "    <tr>\n",
       "      <th>34</th>\n",
       "      <td>Пермь</td>\n",
       "      <td>Гибкий график</td>\n",
       "      <td>1</td>\n",
       "      <td>NaN</td>\n",
       "    </tr>\n",
       "    <tr>\n",
       "      <th>35</th>\n",
       "      <td>Ростов-на-Дону</td>\n",
       "      <td>Гибкий график</td>\n",
       "      <td>1</td>\n",
       "      <td>NaN</td>\n",
       "    </tr>\n",
       "    <tr>\n",
       "      <th>36</th>\n",
       "      <td>Самара</td>\n",
       "      <td>Полный день</td>\n",
       "      <td>4</td>\n",
       "      <td>NaN</td>\n",
       "    </tr>\n",
       "    <tr>\n",
       "      <th>37</th>\n",
       "      <td>Самара</td>\n",
       "      <td>Удаленная работа</td>\n",
       "      <td>2</td>\n",
       "      <td>NaN</td>\n",
       "    </tr>\n",
       "    <tr>\n",
       "      <th>38</th>\n",
       "      <td>Уфа</td>\n",
       "      <td>Полный день</td>\n",
       "      <td>3</td>\n",
       "      <td>NaN</td>\n",
       "    </tr>\n",
       "    <tr>\n",
       "      <th>39</th>\n",
       "      <td>Челябинск</td>\n",
       "      <td>Полный день</td>\n",
       "      <td>1</td>\n",
       "      <td>NaN</td>\n",
       "    </tr>\n",
       "  </tbody>\n",
       "</table>\n",
       "</div>"
      ]
     },
     "execution_count": 608,
     "metadata": {},
     "output_type": "execute_result"
    }
   ],
   "execution_count": 608
  },
  {
   "metadata": {
    "ExecuteTime": {
     "end_time": "2024-08-04T17:13:13.767678Z",
     "start_time": "2024-08-04T17:13:13.504674Z"
    }
   },
   "cell_type": "code",
   "source": [
    "\n",
    "fig = px.bar(\n",
    "    df,\n",
    "    x='salary', \n",
    "    y='area_name', \n",
    "    barmode='group',\n",
    "    color='schedule',\n",
    "    orientation='h',\n",
    "    title='Зависимость заработной платы от типа трудоустройства в разрезе городов',\n",
    "    labels={\"schedule\": \"Тип рабочего графика\"}\n",
    ")\n",
    "fig.update_layout(\n",
    "    xaxis_title=\"средний уровень ЗП\",\n",
    "    yaxis_title=\"регион\"\n",
    ")\n",
    "fig.show()\n",
    "fig.write_html(\"plotly/project_02_d_5.html\")"
   ],
   "id": "465046728aed4f5c",
   "outputs": [
    {
     "ename": "ModuleNotFoundError",
     "evalue": "No module named 'plotly.validators.layout._hoversubplots'",
     "output_type": "error",
     "traceback": [
      "\u001B[1;31m---------------------------------------------------------------------------\u001B[0m",
      "\u001B[1;31mModuleNotFoundError\u001B[0m                       Traceback (most recent call last)",
      "Cell \u001B[1;32mIn[609], line 1\u001B[0m\n\u001B[1;32m----> 1\u001B[0m fig \u001B[38;5;241m=\u001B[39m \u001B[43mpx\u001B[49m\u001B[38;5;241;43m.\u001B[39;49m\u001B[43mbar\u001B[49m\u001B[43m(\u001B[49m\n\u001B[0;32m      2\u001B[0m \u001B[43m    \u001B[49m\u001B[43mdf\u001B[49m\u001B[43m,\u001B[49m\n\u001B[0;32m      3\u001B[0m \u001B[43m    \u001B[49m\u001B[43mx\u001B[49m\u001B[38;5;241;43m=\u001B[39;49m\u001B[38;5;124;43m'\u001B[39;49m\u001B[38;5;124;43msalary\u001B[39;49m\u001B[38;5;124;43m'\u001B[39;49m\u001B[43m,\u001B[49m\u001B[43m \u001B[49m\n\u001B[0;32m      4\u001B[0m \u001B[43m    \u001B[49m\u001B[43my\u001B[49m\u001B[38;5;241;43m=\u001B[39;49m\u001B[38;5;124;43m'\u001B[39;49m\u001B[38;5;124;43marea_name\u001B[39;49m\u001B[38;5;124;43m'\u001B[39;49m\u001B[43m,\u001B[49m\u001B[43m \u001B[49m\n\u001B[0;32m      5\u001B[0m \u001B[43m    \u001B[49m\u001B[43mbarmode\u001B[49m\u001B[38;5;241;43m=\u001B[39;49m\u001B[38;5;124;43m'\u001B[39;49m\u001B[38;5;124;43mgroup\u001B[39;49m\u001B[38;5;124;43m'\u001B[39;49m\u001B[43m,\u001B[49m\n\u001B[0;32m      6\u001B[0m \u001B[43m    \u001B[49m\u001B[43mcolor\u001B[49m\u001B[38;5;241;43m=\u001B[39;49m\u001B[38;5;124;43m'\u001B[39;49m\u001B[38;5;124;43mschedule\u001B[39;49m\u001B[38;5;124;43m'\u001B[39;49m\u001B[43m,\u001B[49m\n\u001B[0;32m      7\u001B[0m \u001B[43m    \u001B[49m\u001B[43morientation\u001B[49m\u001B[38;5;241;43m=\u001B[39;49m\u001B[38;5;124;43m'\u001B[39;49m\u001B[38;5;124;43mh\u001B[39;49m\u001B[38;5;124;43m'\u001B[39;49m\u001B[43m,\u001B[49m\n\u001B[0;32m      8\u001B[0m \u001B[43m    \u001B[49m\u001B[43mtitle\u001B[49m\u001B[38;5;241;43m=\u001B[39;49m\u001B[38;5;124;43m'\u001B[39;49m\u001B[38;5;124;43mЗависимость заработной платы от типа трудоустройства в разрезе городов\u001B[39;49m\u001B[38;5;124;43m'\u001B[39;49m\u001B[43m,\u001B[49m\n\u001B[0;32m      9\u001B[0m \u001B[43m    \u001B[49m\u001B[43mlabels\u001B[49m\u001B[38;5;241;43m=\u001B[39;49m\u001B[43m{\u001B[49m\u001B[38;5;124;43m\"\u001B[39;49m\u001B[38;5;124;43mschedule\u001B[39;49m\u001B[38;5;124;43m\"\u001B[39;49m\u001B[43m:\u001B[49m\u001B[43m \u001B[49m\u001B[38;5;124;43m\"\u001B[39;49m\u001B[38;5;124;43mТип рабочего графика\u001B[39;49m\u001B[38;5;124;43m\"\u001B[39;49m\u001B[43m}\u001B[49m\n\u001B[0;32m     10\u001B[0m \u001B[43m)\u001B[49m\n\u001B[0;32m     11\u001B[0m fig\u001B[38;5;241m.\u001B[39mupdate_layout(\n\u001B[0;32m     12\u001B[0m     xaxis_title\u001B[38;5;241m=\u001B[39m\u001B[38;5;124m\"\u001B[39m\u001B[38;5;124mсредний уровень ЗП\u001B[39m\u001B[38;5;124m\"\u001B[39m,\n\u001B[0;32m     13\u001B[0m     yaxis_title\u001B[38;5;241m=\u001B[39m\u001B[38;5;124m\"\u001B[39m\u001B[38;5;124mрегион\u001B[39m\u001B[38;5;124m\"\u001B[39m\n\u001B[0;32m     14\u001B[0m )\n\u001B[0;32m     15\u001B[0m fig\u001B[38;5;241m.\u001B[39mshow()\n",
      "File \u001B[1;32m~\\AppData\\Local\\Programs\\Python\\Python312\\Lib\\site-packages\\plotly\\express\\_chart_types.py:373\u001B[0m, in \u001B[0;36mbar\u001B[1;34m(data_frame, x, y, color, pattern_shape, facet_row, facet_col, facet_col_wrap, facet_row_spacing, facet_col_spacing, hover_name, hover_data, custom_data, text, base, error_x, error_x_minus, error_y, error_y_minus, animation_frame, animation_group, category_orders, labels, color_discrete_sequence, color_discrete_map, color_continuous_scale, pattern_shape_sequence, pattern_shape_map, range_color, color_continuous_midpoint, opacity, orientation, barmode, log_x, log_y, range_x, range_y, text_auto, title, template, width, height)\u001B[0m\n\u001B[0;32m    325\u001B[0m \u001B[38;5;28;01mdef\u001B[39;00m \u001B[38;5;21mbar\u001B[39m(\n\u001B[0;32m    326\u001B[0m     data_frame\u001B[38;5;241m=\u001B[39m\u001B[38;5;28;01mNone\u001B[39;00m,\n\u001B[0;32m    327\u001B[0m     x\u001B[38;5;241m=\u001B[39m\u001B[38;5;28;01mNone\u001B[39;00m,\n\u001B[1;32m   (...)\u001B[0m\n\u001B[0;32m    367\u001B[0m     height\u001B[38;5;241m=\u001B[39m\u001B[38;5;28;01mNone\u001B[39;00m,\n\u001B[0;32m    368\u001B[0m ) \u001B[38;5;241m-\u001B[39m\u001B[38;5;241m>\u001B[39m go\u001B[38;5;241m.\u001B[39mFigure:\n\u001B[0;32m    369\u001B[0m \u001B[38;5;250m    \u001B[39m\u001B[38;5;124;03m\"\"\"\u001B[39;00m\n\u001B[0;32m    370\u001B[0m \u001B[38;5;124;03m    In a bar plot, each row of `data_frame` is represented as a rectangular\u001B[39;00m\n\u001B[0;32m    371\u001B[0m \u001B[38;5;124;03m    mark.\u001B[39;00m\n\u001B[0;32m    372\u001B[0m \u001B[38;5;124;03m    \"\"\"\u001B[39;00m\n\u001B[1;32m--> 373\u001B[0m     \u001B[38;5;28;01mreturn\u001B[39;00m \u001B[43mmake_figure\u001B[49m\u001B[43m(\u001B[49m\n\u001B[0;32m    374\u001B[0m \u001B[43m        \u001B[49m\u001B[43margs\u001B[49m\u001B[38;5;241;43m=\u001B[39;49m\u001B[38;5;28;43mlocals\u001B[39;49m\u001B[43m(\u001B[49m\u001B[43m)\u001B[49m\u001B[43m,\u001B[49m\n\u001B[0;32m    375\u001B[0m \u001B[43m        \u001B[49m\u001B[43mconstructor\u001B[49m\u001B[38;5;241;43m=\u001B[39;49m\u001B[43mgo\u001B[49m\u001B[38;5;241;43m.\u001B[39;49m\u001B[43mBar\u001B[49m\u001B[43m,\u001B[49m\n\u001B[0;32m    376\u001B[0m \u001B[43m        \u001B[49m\u001B[43mtrace_patch\u001B[49m\u001B[38;5;241;43m=\u001B[39;49m\u001B[38;5;28;43mdict\u001B[39;49m\u001B[43m(\u001B[49m\u001B[43mtextposition\u001B[49m\u001B[38;5;241;43m=\u001B[39;49m\u001B[38;5;124;43m\"\u001B[39;49m\u001B[38;5;124;43mauto\u001B[39;49m\u001B[38;5;124;43m\"\u001B[39;49m\u001B[43m)\u001B[49m\u001B[43m,\u001B[49m\n\u001B[0;32m    377\u001B[0m \u001B[43m        \u001B[49m\u001B[43mlayout_patch\u001B[49m\u001B[38;5;241;43m=\u001B[39;49m\u001B[38;5;28;43mdict\u001B[39;49m\u001B[43m(\u001B[49m\u001B[43mbarmode\u001B[49m\u001B[38;5;241;43m=\u001B[39;49m\u001B[43mbarmode\u001B[49m\u001B[43m)\u001B[49m\u001B[43m,\u001B[49m\n\u001B[0;32m    378\u001B[0m \u001B[43m    \u001B[49m\u001B[43m)\u001B[49m\n",
      "File \u001B[1;32m~\\AppData\\Local\\Programs\\Python\\Python312\\Lib\\site-packages\\plotly\\express\\_core.py:2326\u001B[0m, in \u001B[0;36mmake_figure\u001B[1;34m(args, constructor, trace_patch, layout_patch)\u001B[0m\n\u001B[0;32m   2323\u001B[0m \u001B[38;5;28;01mif\u001B[39;00m args\u001B[38;5;241m.\u001B[39mget(\u001B[38;5;124m\"\u001B[39m\u001B[38;5;124mmarginal_y\u001B[39m\u001B[38;5;124m\"\u001B[39m) \u001B[38;5;129;01mis\u001B[39;00m \u001B[38;5;129;01mnot\u001B[39;00m \u001B[38;5;28;01mNone\u001B[39;00m:\n\u001B[0;32m   2324\u001B[0m     ncols \u001B[38;5;241m+\u001B[39m\u001B[38;5;241m=\u001B[39m \u001B[38;5;241m1\u001B[39m\n\u001B[1;32m-> 2326\u001B[0m fig \u001B[38;5;241m=\u001B[39m \u001B[43minit_figure\u001B[49m\u001B[43m(\u001B[49m\n\u001B[0;32m   2327\u001B[0m \u001B[43m    \u001B[49m\u001B[43margs\u001B[49m\u001B[43m,\u001B[49m\u001B[43m \u001B[49m\u001B[43msubplot_type\u001B[49m\u001B[43m,\u001B[49m\u001B[43m \u001B[49m\u001B[43mframe_list\u001B[49m\u001B[43m,\u001B[49m\u001B[43m \u001B[49m\u001B[43mnrows\u001B[49m\u001B[43m,\u001B[49m\u001B[43m \u001B[49m\u001B[43mncols\u001B[49m\u001B[43m,\u001B[49m\u001B[43m \u001B[49m\u001B[43mcol_labels\u001B[49m\u001B[43m,\u001B[49m\u001B[43m \u001B[49m\u001B[43mrow_labels\u001B[49m\n\u001B[0;32m   2328\u001B[0m \u001B[43m\u001B[49m\u001B[43m)\u001B[49m\n\u001B[0;32m   2330\u001B[0m \u001B[38;5;66;03m# Position traces in subplots\u001B[39;00m\n\u001B[0;32m   2331\u001B[0m \u001B[38;5;28;01mfor\u001B[39;00m frame \u001B[38;5;129;01min\u001B[39;00m frame_list:\n",
      "File \u001B[1;32m~\\AppData\\Local\\Programs\\Python\\Python312\\Lib\\site-packages\\plotly\\express\\_core.py:2453\u001B[0m, in \u001B[0;36minit_figure\u001B[1;34m(args, subplot_type, frame_list, nrows, ncols, col_labels, row_labels)\u001B[0m\n\u001B[0;32m   2451\u001B[0m \u001B[38;5;66;03m# Create figure with subplots\u001B[39;00m\n\u001B[0;32m   2452\u001B[0m \u001B[38;5;28;01mtry\u001B[39;00m:\n\u001B[1;32m-> 2453\u001B[0m     fig \u001B[38;5;241m=\u001B[39m \u001B[43mmake_subplots\u001B[49m\u001B[43m(\u001B[49m\n\u001B[0;32m   2454\u001B[0m \u001B[43m        \u001B[49m\u001B[43mrows\u001B[49m\u001B[38;5;241;43m=\u001B[39;49m\u001B[43mnrows\u001B[49m\u001B[43m,\u001B[49m\n\u001B[0;32m   2455\u001B[0m \u001B[43m        \u001B[49m\u001B[43mcols\u001B[49m\u001B[38;5;241;43m=\u001B[39;49m\u001B[43mncols\u001B[49m\u001B[43m,\u001B[49m\n\u001B[0;32m   2456\u001B[0m \u001B[43m        \u001B[49m\u001B[43mspecs\u001B[49m\u001B[38;5;241;43m=\u001B[39;49m\u001B[43mspecs\u001B[49m\u001B[43m,\u001B[49m\n\u001B[0;32m   2457\u001B[0m \u001B[43m        \u001B[49m\u001B[43mshared_xaxes\u001B[49m\u001B[38;5;241;43m=\u001B[39;49m\u001B[38;5;124;43m\"\u001B[39;49m\u001B[38;5;124;43mall\u001B[39;49m\u001B[38;5;124;43m\"\u001B[39;49m\u001B[43m,\u001B[49m\n\u001B[0;32m   2458\u001B[0m \u001B[43m        \u001B[49m\u001B[43mshared_yaxes\u001B[49m\u001B[38;5;241;43m=\u001B[39;49m\u001B[38;5;124;43m\"\u001B[39;49m\u001B[38;5;124;43mall\u001B[39;49m\u001B[38;5;124;43m\"\u001B[39;49m\u001B[43m,\u001B[49m\n\u001B[0;32m   2459\u001B[0m \u001B[43m        \u001B[49m\u001B[43mrow_titles\u001B[49m\u001B[38;5;241;43m=\u001B[39;49m\u001B[43m[\u001B[49m\u001B[43m]\u001B[49m\u001B[43m \u001B[49m\u001B[38;5;28;43;01mif\u001B[39;49;00m\u001B[43m \u001B[49m\u001B[43mfacet_col_wrap\u001B[49m\u001B[43m \u001B[49m\u001B[38;5;28;43;01melse\u001B[39;49;00m\u001B[43m \u001B[49m\u001B[38;5;28;43mlist\u001B[39;49m\u001B[43m(\u001B[49m\u001B[38;5;28;43mreversed\u001B[39;49m\u001B[43m(\u001B[49m\u001B[43mrow_labels\u001B[49m\u001B[43m)\u001B[49m\u001B[43m)\u001B[49m\u001B[43m,\u001B[49m\n\u001B[0;32m   2460\u001B[0m \u001B[43m        \u001B[49m\u001B[43mcolumn_titles\u001B[49m\u001B[38;5;241;43m=\u001B[39;49m\u001B[43m[\u001B[49m\u001B[43m]\u001B[49m\u001B[43m \u001B[49m\u001B[38;5;28;43;01mif\u001B[39;49;00m\u001B[43m \u001B[49m\u001B[43mfacet_col_wrap\u001B[49m\u001B[43m \u001B[49m\u001B[38;5;28;43;01melse\u001B[39;49;00m\u001B[43m \u001B[49m\u001B[43mcol_labels\u001B[49m\u001B[43m,\u001B[49m\n\u001B[0;32m   2461\u001B[0m \u001B[43m        \u001B[49m\u001B[43msubplot_titles\u001B[49m\u001B[38;5;241;43m=\u001B[39;49m\u001B[43msubplot_labels\u001B[49m\u001B[43m \u001B[49m\u001B[38;5;28;43;01mif\u001B[39;49;00m\u001B[43m \u001B[49m\u001B[43mfacet_col_wrap\u001B[49m\u001B[43m \u001B[49m\u001B[38;5;28;43;01melse\u001B[39;49;00m\u001B[43m \u001B[49m\u001B[43m[\u001B[49m\u001B[43m]\u001B[49m\u001B[43m,\u001B[49m\n\u001B[0;32m   2462\u001B[0m \u001B[43m        \u001B[49m\u001B[43mhorizontal_spacing\u001B[49m\u001B[38;5;241;43m=\u001B[39;49m\u001B[43mhorizontal_spacing\u001B[49m\u001B[43m,\u001B[49m\n\u001B[0;32m   2463\u001B[0m \u001B[43m        \u001B[49m\u001B[43mvertical_spacing\u001B[49m\u001B[38;5;241;43m=\u001B[39;49m\u001B[43mvertical_spacing\u001B[49m\u001B[43m,\u001B[49m\n\u001B[0;32m   2464\u001B[0m \u001B[43m        \u001B[49m\u001B[43mrow_heights\u001B[49m\u001B[38;5;241;43m=\u001B[39;49m\u001B[43mrow_heights\u001B[49m\u001B[43m,\u001B[49m\n\u001B[0;32m   2465\u001B[0m \u001B[43m        \u001B[49m\u001B[43mcolumn_widths\u001B[49m\u001B[38;5;241;43m=\u001B[39;49m\u001B[43mcolumn_widths\u001B[49m\u001B[43m,\u001B[49m\n\u001B[0;32m   2466\u001B[0m \u001B[43m        \u001B[49m\u001B[43mstart_cell\u001B[49m\u001B[38;5;241;43m=\u001B[39;49m\u001B[38;5;124;43m\"\u001B[39;49m\u001B[38;5;124;43mbottom-left\u001B[39;49m\u001B[38;5;124;43m\"\u001B[39;49m\u001B[43m,\u001B[49m\n\u001B[0;32m   2467\u001B[0m \u001B[43m    \u001B[49m\u001B[43m)\u001B[49m\n\u001B[0;32m   2468\u001B[0m \u001B[38;5;28;01mexcept\u001B[39;00m \u001B[38;5;167;01mValueError\u001B[39;00m \u001B[38;5;28;01mas\u001B[39;00m e:\n\u001B[0;32m   2469\u001B[0m     _spacing_error_translator(e, \u001B[38;5;124m\"\u001B[39m\u001B[38;5;124mHorizontal\u001B[39m\u001B[38;5;124m\"\u001B[39m, \u001B[38;5;124m\"\u001B[39m\u001B[38;5;124mfacet_col_spacing\u001B[39m\u001B[38;5;124m\"\u001B[39m)\n",
      "File \u001B[1;32m~\\AppData\\Local\\Programs\\Python\\Python312\\Lib\\site-packages\\plotly\\_subplots.py:880\u001B[0m, in \u001B[0;36mmake_subplots\u001B[1;34m(rows, cols, shared_xaxes, shared_yaxes, start_cell, print_grid, horizontal_spacing, vertical_spacing, subplot_titles, column_widths, row_heights, specs, insets, column_titles, row_titles, x_title, y_title, figure, **kwargs)\u001B[0m\n\u001B[0;32m    878\u001B[0m \u001B[38;5;28;01mif\u001B[39;00m figure \u001B[38;5;129;01mis\u001B[39;00m \u001B[38;5;28;01mNone\u001B[39;00m:\n\u001B[0;32m    879\u001B[0m     figure \u001B[38;5;241m=\u001B[39m go\u001B[38;5;241m.\u001B[39mFigure()\n\u001B[1;32m--> 880\u001B[0m \u001B[43mfigure\u001B[49m\u001B[38;5;241;43m.\u001B[39;49m\u001B[43mupdate_layout\u001B[49m\u001B[43m(\u001B[49m\u001B[43mlayout\u001B[49m\u001B[43m)\u001B[49m\n\u001B[0;32m    882\u001B[0m \u001B[38;5;66;03m# Attach subplot grid info to the figure\u001B[39;00m\n\u001B[0;32m    883\u001B[0m figure\u001B[38;5;241m.\u001B[39m\u001B[38;5;18m__dict__\u001B[39m[\u001B[38;5;124m\"\u001B[39m\u001B[38;5;124m_grid_ref\u001B[39m\u001B[38;5;124m\"\u001B[39m] \u001B[38;5;241m=\u001B[39m grid_ref\n",
      "File \u001B[1;32m~\\AppData\\Local\\Programs\\Python\\Python312\\Lib\\site-packages\\plotly\\graph_objs\\_figure.py:779\u001B[0m, in \u001B[0;36mFigure.update_layout\u001B[1;34m(self, dict1, overwrite, **kwargs)\u001B[0m\n\u001B[0;32m    753\u001B[0m \u001B[38;5;28;01mdef\u001B[39;00m \u001B[38;5;21mupdate_layout\u001B[39m(\u001B[38;5;28mself\u001B[39m, dict1\u001B[38;5;241m=\u001B[39m\u001B[38;5;28;01mNone\u001B[39;00m, overwrite\u001B[38;5;241m=\u001B[39m\u001B[38;5;28;01mFalse\u001B[39;00m, \u001B[38;5;241m*\u001B[39m\u001B[38;5;241m*\u001B[39mkwargs) \u001B[38;5;241m-\u001B[39m\u001B[38;5;241m>\u001B[39m \u001B[38;5;124m\"\u001B[39m\u001B[38;5;124mFigure\u001B[39m\u001B[38;5;124m\"\u001B[39m:\n\u001B[0;32m    754\u001B[0m \u001B[38;5;250m    \u001B[39m\u001B[38;5;124;03m\"\"\"\u001B[39;00m\n\u001B[0;32m    755\u001B[0m \n\u001B[0;32m    756\u001B[0m \u001B[38;5;124;03m    Update the properties of the figure's layout with a dict and/or with\u001B[39;00m\n\u001B[1;32m   (...)\u001B[0m\n\u001B[0;32m    777\u001B[0m \n\u001B[0;32m    778\u001B[0m \u001B[38;5;124;03m    \"\"\"\u001B[39;00m\n\u001B[1;32m--> 779\u001B[0m     \u001B[38;5;28;01mreturn\u001B[39;00m \u001B[38;5;28;43msuper\u001B[39;49m\u001B[43m(\u001B[49m\u001B[43mFigure\u001B[49m\u001B[43m,\u001B[49m\u001B[43m \u001B[49m\u001B[38;5;28;43mself\u001B[39;49m\u001B[43m)\u001B[49m\u001B[38;5;241;43m.\u001B[39;49m\u001B[43mupdate_layout\u001B[49m\u001B[43m(\u001B[49m\u001B[43mdict1\u001B[49m\u001B[43m,\u001B[49m\u001B[43m \u001B[49m\u001B[43moverwrite\u001B[49m\u001B[43m,\u001B[49m\u001B[43m \u001B[49m\u001B[38;5;241;43m*\u001B[39;49m\u001B[38;5;241;43m*\u001B[39;49m\u001B[43mkwargs\u001B[49m\u001B[43m)\u001B[49m\n",
      "File \u001B[1;32m~\\AppData\\Local\\Programs\\Python\\Python312\\Lib\\site-packages\\plotly\\basedatatypes.py:1391\u001B[0m, in \u001B[0;36mBaseFigure.update_layout\u001B[1;34m(self, dict1, overwrite, **kwargs)\u001B[0m\n\u001B[0;32m   1367\u001B[0m \u001B[38;5;28;01mdef\u001B[39;00m \u001B[38;5;21mupdate_layout\u001B[39m(\u001B[38;5;28mself\u001B[39m, dict1\u001B[38;5;241m=\u001B[39m\u001B[38;5;28;01mNone\u001B[39;00m, overwrite\u001B[38;5;241m=\u001B[39m\u001B[38;5;28;01mFalse\u001B[39;00m, \u001B[38;5;241m*\u001B[39m\u001B[38;5;241m*\u001B[39mkwargs):\n\u001B[0;32m   1368\u001B[0m \u001B[38;5;250m    \u001B[39m\u001B[38;5;124;03m\"\"\"\u001B[39;00m\n\u001B[0;32m   1369\u001B[0m \u001B[38;5;124;03m    Update the properties of the figure's layout with a dict and/or with\u001B[39;00m\n\u001B[0;32m   1370\u001B[0m \u001B[38;5;124;03m    keyword arguments.\u001B[39;00m\n\u001B[1;32m   (...)\u001B[0m\n\u001B[0;32m   1389\u001B[0m \u001B[38;5;124;03m        The Figure object that the update_layout method was called on\u001B[39;00m\n\u001B[0;32m   1390\u001B[0m \u001B[38;5;124;03m    \"\"\"\u001B[39;00m\n\u001B[1;32m-> 1391\u001B[0m     \u001B[38;5;28;43mself\u001B[39;49m\u001B[38;5;241;43m.\u001B[39;49m\u001B[43mlayout\u001B[49m\u001B[38;5;241;43m.\u001B[39;49m\u001B[43mupdate\u001B[49m\u001B[43m(\u001B[49m\u001B[43mdict1\u001B[49m\u001B[43m,\u001B[49m\u001B[43m \u001B[49m\u001B[43moverwrite\u001B[49m\u001B[38;5;241;43m=\u001B[39;49m\u001B[43moverwrite\u001B[49m\u001B[43m,\u001B[49m\u001B[43m \u001B[49m\u001B[38;5;241;43m*\u001B[39;49m\u001B[38;5;241;43m*\u001B[39;49m\u001B[43mkwargs\u001B[49m\u001B[43m)\u001B[49m\n\u001B[0;32m   1392\u001B[0m     \u001B[38;5;28;01mreturn\u001B[39;00m \u001B[38;5;28mself\u001B[39m\n",
      "File \u001B[1;32m~\\AppData\\Local\\Programs\\Python\\Python312\\Lib\\site-packages\\plotly\\basedatatypes.py:5136\u001B[0m, in \u001B[0;36mBasePlotlyType.update\u001B[1;34m(self, dict1, overwrite, **kwargs)\u001B[0m\n\u001B[0;32m   5134\u001B[0m \u001B[38;5;28;01mif\u001B[39;00m \u001B[38;5;28mself\u001B[39m\u001B[38;5;241m.\u001B[39mfigure:\n\u001B[0;32m   5135\u001B[0m     \u001B[38;5;28;01mwith\u001B[39;00m \u001B[38;5;28mself\u001B[39m\u001B[38;5;241m.\u001B[39mfigure\u001B[38;5;241m.\u001B[39mbatch_update():\n\u001B[1;32m-> 5136\u001B[0m         \u001B[43mBaseFigure\u001B[49m\u001B[38;5;241;43m.\u001B[39;49m\u001B[43m_perform_update\u001B[49m\u001B[43m(\u001B[49m\u001B[38;5;28;43mself\u001B[39;49m\u001B[43m,\u001B[49m\u001B[43m \u001B[49m\u001B[43mdict1\u001B[49m\u001B[43m,\u001B[49m\u001B[43m \u001B[49m\u001B[43moverwrite\u001B[49m\u001B[38;5;241;43m=\u001B[39;49m\u001B[43moverwrite\u001B[49m\u001B[43m)\u001B[49m\n\u001B[0;32m   5137\u001B[0m         BaseFigure\u001B[38;5;241m.\u001B[39m_perform_update(\u001B[38;5;28mself\u001B[39m, kwargs, overwrite\u001B[38;5;241m=\u001B[39moverwrite)\n\u001B[0;32m   5138\u001B[0m \u001B[38;5;28;01melse\u001B[39;00m:\n",
      "File \u001B[1;32m~\\AppData\\Local\\Programs\\Python\\Python312\\Lib\\site-packages\\plotly\\basedatatypes.py:3886\u001B[0m, in \u001B[0;36mBaseFigure._perform_update\u001B[1;34m(plotly_obj, update_obj, overwrite)\u001B[0m\n\u001B[0;32m   3878\u001B[0m \u001B[38;5;28;01melif\u001B[39;00m \u001B[38;5;28misinstance\u001B[39m(plotly_obj, BasePlotlyType):\n\u001B[0;32m   3879\u001B[0m \n\u001B[0;32m   3880\u001B[0m     \u001B[38;5;66;03m# Handle initializing subplot ids\u001B[39;00m\n\u001B[0;32m   3881\u001B[0m     \u001B[38;5;66;03m# -------------------------------\u001B[39;00m\n\u001B[0;32m   3882\u001B[0m     \u001B[38;5;66;03m# This should be valid even if xaxis2 hasn't been initialized:\u001B[39;00m\n\u001B[0;32m   3883\u001B[0m     \u001B[38;5;66;03m# >>> layout.update(xaxis2={'title': 'xaxis 2'})\u001B[39;00m\n\u001B[0;32m   3884\u001B[0m     \u001B[38;5;28;01mfor\u001B[39;00m key \u001B[38;5;129;01min\u001B[39;00m update_obj:\n\u001B[0;32m   3885\u001B[0m         \u001B[38;5;66;03m# special handling for missing keys that match _subplot_re_match\u001B[39;00m\n\u001B[1;32m-> 3886\u001B[0m         \u001B[38;5;28;01mif\u001B[39;00m \u001B[43mkey\u001B[49m\u001B[43m \u001B[49m\u001B[38;5;129;43;01mnot\u001B[39;49;00m\u001B[43m \u001B[49m\u001B[38;5;129;43;01min\u001B[39;49;00m\u001B[43m \u001B[49m\u001B[43mplotly_obj\u001B[49m \u001B[38;5;129;01mand\u001B[39;00m \u001B[38;5;28misinstance\u001B[39m(plotly_obj, BaseLayoutType):\n\u001B[0;32m   3887\u001B[0m             \u001B[38;5;66;03m# try _subplot_re_match\u001B[39;00m\n\u001B[0;32m   3888\u001B[0m             match \u001B[38;5;241m=\u001B[39m plotly_obj\u001B[38;5;241m.\u001B[39m_subplot_re_match(key)\n\u001B[0;32m   3889\u001B[0m             \u001B[38;5;28;01mif\u001B[39;00m match:\n\u001B[0;32m   3890\u001B[0m                 \u001B[38;5;66;03m# We need to create a subplotid object\u001B[39;00m\n",
      "File \u001B[1;32m~\\AppData\\Local\\Programs\\Python\\Python312\\Lib\\site-packages\\plotly\\basedatatypes.py:5890\u001B[0m, in \u001B[0;36mBaseLayoutType.__contains__\u001B[1;34m(self, prop)\u001B[0m\n\u001B[0;32m   5886\u001B[0m \u001B[38;5;250m\u001B[39m\u001B[38;5;124;03m\"\"\"\u001B[39;00m\n\u001B[0;32m   5887\u001B[0m \u001B[38;5;124;03mCustom __contains__ that handles dynamic subplot properties\u001B[39;00m\n\u001B[0;32m   5888\u001B[0m \u001B[38;5;124;03m\"\"\"\u001B[39;00m\n\u001B[0;32m   5889\u001B[0m prop \u001B[38;5;241m=\u001B[39m \u001B[38;5;28mself\u001B[39m\u001B[38;5;241m.\u001B[39m_strip_subplot_suffix_of_1(prop)\n\u001B[1;32m-> 5890\u001B[0m \u001B[38;5;28;01mreturn\u001B[39;00m \u001B[38;5;28;43msuper\u001B[39;49m\u001B[43m(\u001B[49m\u001B[43mBaseLayoutHierarchyType\u001B[49m\u001B[43m,\u001B[49m\u001B[43m \u001B[49m\u001B[38;5;28;43mself\u001B[39;49m\u001B[43m)\u001B[49m\u001B[38;5;241;43m.\u001B[39;49m\u001B[38;5;21;43m__contains__\u001B[39;49m\u001B[43m(\u001B[49m\u001B[43mprop\u001B[49m\u001B[43m)\u001B[49m\n",
      "File \u001B[1;32m~\\AppData\\Local\\Programs\\Python\\Python312\\Lib\\site-packages\\plotly\\basedatatypes.py:4805\u001B[0m, in \u001B[0;36mBasePlotlyType.__contains__\u001B[1;34m(self, prop)\u001B[0m\n\u001B[0;32m   4803\u001B[0m \u001B[38;5;28;01melse\u001B[39;00m:\n\u001B[0;32m   4804\u001B[0m     \u001B[38;5;28;01mif\u001B[39;00m \u001B[38;5;28mhasattr\u001B[39m(obj, \u001B[38;5;124m\"\u001B[39m\u001B[38;5;124m_valid_props\u001B[39m\u001B[38;5;124m\"\u001B[39m) \u001B[38;5;129;01mand\u001B[39;00m p \u001B[38;5;129;01min\u001B[39;00m obj\u001B[38;5;241m.\u001B[39m_valid_props:\n\u001B[1;32m-> 4805\u001B[0m         obj \u001B[38;5;241m=\u001B[39m \u001B[43mobj\u001B[49m\u001B[43m[\u001B[49m\u001B[43mp\u001B[49m\u001B[43m]\u001B[49m\n\u001B[0;32m   4806\u001B[0m     \u001B[38;5;28;01melse\u001B[39;00m:\n\u001B[0;32m   4807\u001B[0m         \u001B[38;5;28;01mreturn\u001B[39;00m \u001B[38;5;28;01mFalse\u001B[39;00m\n",
      "File \u001B[1;32m~\\AppData\\Local\\Programs\\Python\\Python312\\Lib\\site-packages\\plotly\\basedatatypes.py:5883\u001B[0m, in \u001B[0;36mBaseLayoutType.__getitem__\u001B[1;34m(self, prop)\u001B[0m\n\u001B[0;32m   5879\u001B[0m \u001B[38;5;250m\u001B[39m\u001B[38;5;124;03m\"\"\"\u001B[39;00m\n\u001B[0;32m   5880\u001B[0m \u001B[38;5;124;03mCustom __getitem__ that handles dynamic subplot properties\u001B[39;00m\n\u001B[0;32m   5881\u001B[0m \u001B[38;5;124;03m\"\"\"\u001B[39;00m\n\u001B[0;32m   5882\u001B[0m prop \u001B[38;5;241m=\u001B[39m \u001B[38;5;28mself\u001B[39m\u001B[38;5;241m.\u001B[39m_strip_subplot_suffix_of_1(prop)\n\u001B[1;32m-> 5883\u001B[0m \u001B[38;5;28;01mreturn\u001B[39;00m \u001B[38;5;28;43msuper\u001B[39;49m\u001B[43m(\u001B[49m\u001B[43mBaseLayoutHierarchyType\u001B[49m\u001B[43m,\u001B[49m\u001B[43m \u001B[49m\u001B[38;5;28;43mself\u001B[39;49m\u001B[43m)\u001B[49m\u001B[38;5;241;43m.\u001B[39;49m\u001B[38;5;21;43m__getitem__\u001B[39;49m\u001B[43m(\u001B[49m\u001B[43mprop\u001B[49m\u001B[43m)\u001B[49m\n",
      "File \u001B[1;32m~\\AppData\\Local\\Programs\\Python\\Python312\\Lib\\site-packages\\plotly\\basedatatypes.py:4723\u001B[0m, in \u001B[0;36mBasePlotlyType.__getitem__\u001B[1;34m(self, prop)\u001B[0m\n\u001B[0;32m   4718\u001B[0m \u001B[38;5;28;01mif\u001B[39;00m prop \u001B[38;5;129;01mnot\u001B[39;00m \u001B[38;5;129;01min\u001B[39;00m \u001B[38;5;28mself\u001B[39m\u001B[38;5;241m.\u001B[39m_valid_props:\n\u001B[0;32m   4719\u001B[0m     \u001B[38;5;28mself\u001B[39m\u001B[38;5;241m.\u001B[39m_raise_on_invalid_property_error(_error_to_raise\u001B[38;5;241m=\u001B[39mPlotlyKeyError)(\n\u001B[0;32m   4720\u001B[0m         prop\n\u001B[0;32m   4721\u001B[0m     )\n\u001B[1;32m-> 4723\u001B[0m validator \u001B[38;5;241m=\u001B[39m \u001B[38;5;28;43mself\u001B[39;49m\u001B[38;5;241;43m.\u001B[39;49m\u001B[43m_get_validator\u001B[49m\u001B[43m(\u001B[49m\u001B[43mprop\u001B[49m\u001B[43m)\u001B[49m\n\u001B[0;32m   4725\u001B[0m \u001B[38;5;28;01mif\u001B[39;00m \u001B[38;5;28misinstance\u001B[39m(validator, CompoundValidator):\n\u001B[0;32m   4726\u001B[0m     \u001B[38;5;28;01mif\u001B[39;00m \u001B[38;5;28mself\u001B[39m\u001B[38;5;241m.\u001B[39m_compound_props\u001B[38;5;241m.\u001B[39mget(prop, \u001B[38;5;28;01mNone\u001B[39;00m) \u001B[38;5;129;01mis\u001B[39;00m \u001B[38;5;28;01mNone\u001B[39;00m:\n\u001B[0;32m   4727\u001B[0m         \u001B[38;5;66;03m# Init compound objects\u001B[39;00m\n",
      "File \u001B[1;32m~\\AppData\\Local\\Programs\\Python\\Python312\\Lib\\site-packages\\plotly\\basedatatypes.py:4344\u001B[0m, in \u001B[0;36mBasePlotlyType._get_validator\u001B[1;34m(self, prop)\u001B[0m\n\u001B[0;32m   4341\u001B[0m \u001B[38;5;28;01mdef\u001B[39;00m \u001B[38;5;21m_get_validator\u001B[39m(\u001B[38;5;28mself\u001B[39m, prop):\n\u001B[0;32m   4342\u001B[0m     \u001B[38;5;28;01mfrom\u001B[39;00m \u001B[38;5;21;01m.\u001B[39;00m\u001B[38;5;21;01mvalidator_cache\u001B[39;00m \u001B[38;5;28;01mimport\u001B[39;00m ValidatorCache\n\u001B[1;32m-> 4344\u001B[0m     \u001B[38;5;28;01mreturn\u001B[39;00m \u001B[43mValidatorCache\u001B[49m\u001B[38;5;241;43m.\u001B[39;49m\u001B[43mget_validator\u001B[49m\u001B[43m(\u001B[49m\u001B[38;5;28;43mself\u001B[39;49m\u001B[38;5;241;43m.\u001B[39;49m\u001B[43m_path_str\u001B[49m\u001B[43m,\u001B[49m\u001B[43m \u001B[49m\u001B[43mprop\u001B[49m\u001B[43m)\u001B[49m\n",
      "File \u001B[1;32m~\\AppData\\Local\\Programs\\Python\\Python312\\Lib\\site-packages\\plotly\\validator_cache.py:28\u001B[0m, in \u001B[0;36mValidatorCache.get_validator\u001B[1;34m(parent_path, prop_name)\u001B[0m\n\u001B[0;32m     26\u001B[0m         lookup_name \u001B[38;5;241m=\u001B[39m lookup_name \u001B[38;5;129;01mor\u001B[39;00m prop_name\n\u001B[0;32m     27\u001B[0m         class_name \u001B[38;5;241m=\u001B[39m lookup_name\u001B[38;5;241m.\u001B[39mtitle() \u001B[38;5;241m+\u001B[39m \u001B[38;5;124m\"\u001B[39m\u001B[38;5;124mValidator\u001B[39m\u001B[38;5;124m\"\u001B[39m\n\u001B[1;32m---> 28\u001B[0m         validator \u001B[38;5;241m=\u001B[39m \u001B[38;5;28;43mgetattr\u001B[39;49m\u001B[43m(\u001B[49m\n\u001B[0;32m     29\u001B[0m \u001B[43m            \u001B[49m\u001B[43mimportlib\u001B[49m\u001B[38;5;241;43m.\u001B[39;49m\u001B[43mimport_module\u001B[49m\u001B[43m(\u001B[49m\u001B[38;5;124;43m\"\u001B[39;49m\u001B[38;5;124;43mplotly.validators.\u001B[39;49m\u001B[38;5;124;43m\"\u001B[39;49m\u001B[43m \u001B[49m\u001B[38;5;241;43m+\u001B[39;49m\u001B[43m \u001B[49m\u001B[43mparent_path\u001B[49m\u001B[43m)\u001B[49m\u001B[43m,\u001B[49m\n\u001B[0;32m     30\u001B[0m \u001B[43m            \u001B[49m\u001B[43mclass_name\u001B[49m\u001B[43m,\u001B[49m\n\u001B[0;32m     31\u001B[0m \u001B[43m        \u001B[49m\u001B[43m)\u001B[49m(plotly_name\u001B[38;5;241m=\u001B[39mprop_name)\n\u001B[0;32m     32\u001B[0m     ValidatorCache\u001B[38;5;241m.\u001B[39m_cache[key] \u001B[38;5;241m=\u001B[39m validator\n\u001B[0;32m     34\u001B[0m \u001B[38;5;28;01mreturn\u001B[39;00m ValidatorCache\u001B[38;5;241m.\u001B[39m_cache[key]\n",
      "File \u001B[1;32m~\\AppData\\Local\\Programs\\Python\\Python312\\Lib\\site-packages\\_plotly_utils\\importers.py:36\u001B[0m, in \u001B[0;36mrelative_import.<locals>.__getattr__\u001B[1;34m(import_name)\u001B[0m\n\u001B[0;32m     34\u001B[0m     rel_module \u001B[38;5;241m=\u001B[39m \u001B[38;5;124m\"\u001B[39m\u001B[38;5;124m.\u001B[39m\u001B[38;5;124m\"\u001B[39m\u001B[38;5;241m.\u001B[39mjoin(rel_path_parts[:\u001B[38;5;241m-\u001B[39m\u001B[38;5;241m1\u001B[39m])\n\u001B[0;32m     35\u001B[0m     class_name \u001B[38;5;241m=\u001B[39m import_name\n\u001B[1;32m---> 36\u001B[0m     class_module \u001B[38;5;241m=\u001B[39m \u001B[43mimportlib\u001B[49m\u001B[38;5;241;43m.\u001B[39;49m\u001B[43mimport_module\u001B[49m\u001B[43m(\u001B[49m\u001B[43mrel_module\u001B[49m\u001B[43m,\u001B[49m\u001B[43m \u001B[49m\u001B[43mparent_name\u001B[49m\u001B[43m)\u001B[49m\n\u001B[0;32m     37\u001B[0m     \u001B[38;5;28;01mreturn\u001B[39;00m \u001B[38;5;28mgetattr\u001B[39m(class_module, class_name)\n\u001B[0;32m     39\u001B[0m \u001B[38;5;28;01mraise\u001B[39;00m \u001B[38;5;167;01mAttributeError\u001B[39;00m(\n\u001B[0;32m     40\u001B[0m     \u001B[38;5;124m\"\u001B[39m\u001B[38;5;124mmodule \u001B[39m\u001B[38;5;132;01m{__name__!r}\u001B[39;00m\u001B[38;5;124m has no attribute \u001B[39m\u001B[38;5;132;01m{name!r}\u001B[39;00m\u001B[38;5;124m\"\u001B[39m\u001B[38;5;241m.\u001B[39mformat(\n\u001B[0;32m     41\u001B[0m         name\u001B[38;5;241m=\u001B[39mimport_name, \u001B[38;5;18m__name__\u001B[39m\u001B[38;5;241m=\u001B[39mparent_name\n\u001B[0;32m     42\u001B[0m     )\n\u001B[0;32m     43\u001B[0m )\n",
      "File \u001B[1;32m~\\AppData\\Local\\Programs\\Python\\Python312\\Lib\\importlib\\__init__.py:90\u001B[0m, in \u001B[0;36mimport_module\u001B[1;34m(name, package)\u001B[0m\n\u001B[0;32m     88\u001B[0m             \u001B[38;5;28;01mbreak\u001B[39;00m\n\u001B[0;32m     89\u001B[0m         level \u001B[38;5;241m+\u001B[39m\u001B[38;5;241m=\u001B[39m \u001B[38;5;241m1\u001B[39m\n\u001B[1;32m---> 90\u001B[0m \u001B[38;5;28;01mreturn\u001B[39;00m \u001B[43m_bootstrap\u001B[49m\u001B[38;5;241;43m.\u001B[39;49m\u001B[43m_gcd_import\u001B[49m\u001B[43m(\u001B[49m\u001B[43mname\u001B[49m\u001B[43m[\u001B[49m\u001B[43mlevel\u001B[49m\u001B[43m:\u001B[49m\u001B[43m]\u001B[49m\u001B[43m,\u001B[49m\u001B[43m \u001B[49m\u001B[43mpackage\u001B[49m\u001B[43m,\u001B[49m\u001B[43m \u001B[49m\u001B[43mlevel\u001B[49m\u001B[43m)\u001B[49m\n",
      "File \u001B[1;32m<frozen importlib._bootstrap>:1381\u001B[0m, in \u001B[0;36m_gcd_import\u001B[1;34m(name, package, level)\u001B[0m\n",
      "File \u001B[1;32m<frozen importlib._bootstrap>:1354\u001B[0m, in \u001B[0;36m_find_and_load\u001B[1;34m(name, import_)\u001B[0m\n",
      "File \u001B[1;32m<frozen importlib._bootstrap>:1318\u001B[0m, in \u001B[0;36m_find_and_load_unlocked\u001B[1;34m(name, import_)\u001B[0m\n",
      "\u001B[1;31mModuleNotFoundError\u001B[0m: No module named 'plotly.validators.layout._hoversubplots'"
     ]
    }
   ],
   "execution_count": 609
  },
  {
   "metadata": {},
   "cell_type": "markdown",
   "source": [
    "**ВЫВОДЫ по дополнительному исследованию:**\n",
    "1) По предлагаемой средней ЗП для DS лидирует Москва (134140 руб), на втором и третьем месте Новосибирск (107777 руб.) и Санкт-Петербург(104410 руб.). Наименьшая средняя ЗП в городах-миллионерах в Волгограде (68689 руб.).\n",
    "2) Если смотреть по сферам деятельности, то Разработка программного обеспечения а 13 месте (117659 руб.), два первых места у Агрохимия (продвижение, оптовая торговля)(381429 руб.) и Агрохимия (производство)(339875 руб.), на втором месте Игровой бизнес (191905 руб.). \n",
    "3) Количество клчевых навыков оказались совсем не показательными, т.к. в вакансиях где не требуется опыта более всего в среднем затребовано навыков.\n",
    "4) Больше всего вакансий DS  таких компаний, как СБЕР(39), Bell Integrator (25), Банк ВТБ (ПАО) (18)\n",
    "5) В разрезе влияния типа трудоустройства на среднюю ЗП можно видеть тенденцию, что есть вакансии с высокой ЗП для удаленной работы. Особенно аномально смотрятся предложения в Ростове-на-Дону. В некоторых регионах предлагается только удаленная работа. Тенденция найма сотрудника для удаленной работы должна сильно изменить предлагаемый уровень ЗП в регионах, т.к. DS вполне может удаленно работать из любого региона.\n",
    " "
   ],
   "id": "f66f2a24097cb17e"
  }
 ],
 "metadata": {
  "kernelspec": {
   "display_name": "Python 3 (ipykernel)",
   "language": "python",
   "name": "python3"
  },
  "language_info": {
   "codemirror_mode": {
    "name": "ipython",
    "version": 3
   },
   "file_extension": ".py",
   "mimetype": "text/x-python",
   "name": "python",
   "nbconvert_exporter": "python",
   "pygments_lexer": "ipython3",
   "version": "3.9.7"
  },
  "colab": {
   "provenance": [],
   "collapsed_sections": [
    "8d62a9f3-f64e-4fe7-bdac-c4dffa16155e"
   ]
  }
 },
 "nbformat": 4,
 "nbformat_minor": 5
}
